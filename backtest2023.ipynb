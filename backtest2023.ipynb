{
 "cells": [
  {
   "cell_type": "code",
   "execution_count": 1,
   "id": "42dd0e25-7d61-4f99-8174-125b8bfa0a6c",
   "metadata": {
    "tags": []
   },
   "outputs": [
    {
     "name": "stdout",
     "output_type": "stream",
     "text": [
      "importing Jupyter notebook from oss_handler.ipynb\n",
      "importing Jupyter notebook from setting.ipynb\n",
      "LTAI5tN7V51xtxUmaKxmRsWo rmqsMszRtvurcckVMD9M14riQYshi6 2nd-data oss-cn-shenzhen.aliyuncs.com\n"
     ]
    }
   ],
   "source": [
    "import pandas as pd #version -2.2.2\n",
    "import numpy as np #version -1.25.0\n",
    "import os\n",
    "from tqdm import tqdm\n",
    "from matplotlib import pyplot as plt\n",
    "from pylab import mpl\n",
    "from sklearn.linear_model import LinearRegression\n",
    "import import_ipynb\n",
    "from oss_handler import OssClient"
   ]
  },
  {
   "cell_type": "code",
   "execution_count": 2,
   "id": "ad360121-35ea-4b06-83c5-96fd3dabefad",
   "metadata": {},
   "outputs": [],
   "source": [
    "oss_client = OssClient()"
   ]
  },
  {
   "cell_type": "markdown",
   "id": "1d4211ef-2b4c-4ea7-976a-a2f1f598506f",
   "metadata": {},
   "source": [
    "## read_data"
   ]
  },
  {
   "cell_type": "code",
   "execution_count": 3,
   "id": "396ae429-6195-470c-88d3-ff3fb550e8af",
   "metadata": {},
   "outputs": [
    {
     "name": "stderr",
     "output_type": "stream",
     "text": [
      "C:\\Users\\sensen.t\\AppData\\Local\\Temp\\ipykernel_8532\\1920345502.py:11: FutureWarning: Downcasting behavior in `replace` is deprecated and will be removed in a future version. To retain the old behavior, explicitly call `result.infer_objects(copy=False)`. To opt-in to the future behavior, set `pd.set_option('future.no_silent_downcasting', True)`\n",
      "  st_status = st_status.replace(True,np.nan).replace(False,True)\n",
      "C:\\Users\\sensen.t\\AppData\\Local\\Temp\\ipykernel_8532\\1920345502.py:12: FutureWarning: Downcasting behavior in `replace` is deprecated and will be removed in a future version. To retain the old behavior, explicitly call `result.infer_objects(copy=False)`. To opt-in to the future behavior, set `pd.set_option('future.no_silent_downcasting', True)`\n",
      "  halt_status = halt_status.replace(True,np.nan).replace(False,True)\n"
     ]
    }
   ],
   "source": [
    "adj_close = oss_client.read_oss_pickle_file('ad_hoc_prod/fields_full/adj_close.pk')\n",
    "adj_open = oss_client.read_oss_pickle_file('ad_hoc_prod/fields_full/adj_open.pk')\n",
    "Close = oss_client.read_oss_pickle_file('ad_hoc_prod/fields_full/close.pk') \n",
    "Open = oss_client.read_oss_pickle_file('ad_hoc_prod/fields_full/open.pk') \n",
    "\n",
    "limit_down = oss_client.read_oss_pickle_file('ad_hoc_prod/fields_full/limit_down.pk') #跌停\n",
    "limit_up = oss_client.read_oss_pickle_file('ad_hoc_prod/fields_full/limit_up.pk') #涨停\n",
    "\n",
    "halt_status = oss_client.read_oss_pickle_file('ad_hoc_prod/fields_full/halt_status.pk') #停牌 \n",
    "st_status = oss_client.read_oss_pickle_file('ad_hoc_prod/fields_full/st_status.pk') #st\n",
    "st_status = st_status.replace(True,np.nan).replace(False,True)\n",
    "halt_status = halt_status.replace(True,np.nan).replace(False,True)\n",
    "\n",
    "adj_return =  adj_close/adj_close.shift(1) - 1\n",
    "adj_return = adj_return.replace(np.inf,np.nan).replace(-np.inf,np.nan)\n",
    "adj_return = adj_return[(adj_return.index >= '2017-01-01')]\n",
    "\n",
    "idx = oss_client.read_oss_pickle_file('ad_hoc_prod/index_hist/000905.XSHG_hist_index.pkl').set_index('date')\n",
    "idx_500_ret = (idx['close']/idx['close'].shift(1) - 1)"
   ]
  },
  {
   "cell_type": "code",
   "execution_count": 4,
   "id": "3ce19139-d460-4b30-bc44-6b944d4c1942",
   "metadata": {
    "tags": []
   },
   "outputs": [],
   "source": [
    "# adj_open = pd.read_pickle('D:/redata/fields_full/adj_open.pk')\n",
    "# adj_close = pd.read_pickle('D:/redata/fields_full/adj_close.pk')\n",
    "# Open = pd.read_pickle('D:/redata/fields_full/open.pk')\n",
    "# Close = pd.read_pickle('D:/redata/fields_full/close.pk')\n",
    "\n",
    "# ##正常交易非st，halt的票打1.其他为np.nan\n",
    "# st_status = pd.read_pickle('D:/redata/fields_full/st_status.pk')\n",
    "# halt_status = pd.read_pickle('D:/redata/fields_full/halt_status.pk')\n",
    "# st_status = st_status.replace(True,np.nan).replace(False,True)\n",
    "# halt_status = halt_status.replace(True,np.nan).replace(False,True)\n",
    "\n",
    "# adj_return =  adj_close/adj_close.shift(1) - 1\n",
    "# adj_return = adj_return.replace(np.inf,np.nan).replace(-np.inf,np.nan)\n",
    "\n",
    "# ##csi500 idx\n",
    "# idx = pd.read_pickle('D:/redata/idx/000905.XSHG_hist_index.pkl').set_index('date')\n",
    "# idx_500_ret = (idx['close']/idx['close'].shift(1) - 1)"
   ]
  },
  {
   "cell_type": "code",
   "execution_count": 5,
   "id": "bf2f1cc0",
   "metadata": {},
   "outputs": [],
   "source": [
    "##调仓周期\n",
    "# o1o2 = adj_open.shift(-2)/adj_open.shift(-1) - 1 #1日调仓\n",
    "\n",
    "o1o2 = adj_open.shift(-5) / adj_open.shift(-1) - 1 #5日调仓 周频\n",
    "# o1o2 = adj_open.shift(-10) / adj_open.shift(-1) - 1 #10日调仓\n",
    "# o1o2 = adj_open.shift(-20) / adj_open.shift(-1) - 1 #20日调仓\n",
    "\n",
    "\n",
    "ret_rank = o1o2.rank(axis=1,ascending=True)"
   ]
  },
  {
   "cell_type": "markdown",
   "id": "d1fb58ba-d83d-4e70-8aa3-68d476b63f46",
   "metadata": {},
   "source": [
    "## data_process"
   ]
  },
  {
   "cell_type": "code",
   "execution_count": 6,
   "id": "6c2ead1f-60fd-4239-8bca-f844250c0f00",
   "metadata": {
    "tags": []
   },
   "outputs": [],
   "source": [
    "##剔除新股，st，halt，补全交易日  ###hist\n",
    "def compute_condition(new_stk = 20):\n",
    "    #上市不满60天的label\n",
    "    drop_new_stk = adj_open.rolling(window=new_stk,min_periods=new_stk).mean()\n",
    "    #drop_new_stk = drop_new_stk.dropna(how='all'，axis=1)\n",
    "    drop_new_stk = ~np.isnan(drop_new_stk)  ##TorF\n",
    "    df = st_status * halt_status * drop_new_stk\n",
    "    df = df.replace(True,1).replace(False,np.nan)\n",
    "    return df.loc['2017':]"
   ]
  },
  {
   "cell_type": "code",
   "execution_count": 7,
   "id": "ffef749a-5316-4e10-9d65-b73321219cba",
   "metadata": {
    "tags": []
   },
   "outputs": [],
   "source": [
    "##行业中性 2023.8.3 更新\n",
    "def neturalize_ind(factor,risk,risk_cols):\n",
    "    XY = pd.merge(risk, factor, on=['date', 'ticker'], how='right')\n",
    "    print(XY.head(3))\n",
    "    XY = XY.dropna()\n",
    "    tradeday = XY.date.unique()\n",
    "    daily_resid = []\n",
    "    for date in tqdm(tradeday[:]):\n",
    "        xy = XY[XY['date'] == date]\n",
    "        #只保留有因子值的数据\n",
    "        xy = xy.dropna()\n",
    "\n",
    "        #数据标准化\n",
    "        xy[risk_cols] = (xy[risk_cols] - xy[risk_cols].mean())/xy[risk_cols].std()                \n",
    "        xy['factor'] = (xy['factor']-xy['factor'].mean())/xy['factor'].std() \n",
    "\n",
    "        #选出x y\n",
    "        x = xy.iloc[:,2:-1]\n",
    "        y = xy['factor']\n",
    "        #回归\n",
    "        multi_linear = LinearRegression(fit_intercept=False)  #无截距项\n",
    "        multi_linear.fit(x, y)\n",
    "        beta = multi_linear.coef_\n",
    "        \n",
    "        #取残差\n",
    "        xy['beta'] = np.dot(x, beta)\n",
    "        xy['resid'] = xy['factor'] - xy['beta']\n",
    "        daily_resid.append(xy)\n",
    "    data = pd.concat(daily_resid)\n",
    "    factor = data[['date', 'ticker', 'factor', 'resid']]\n",
    "    return factor"
   ]
  },
  {
   "cell_type": "code",
   "execution_count": 8,
   "id": "f5637aa5-10bc-4373-bf87-fd1e0be0e6f9",
   "metadata": {
    "tags": []
   },
   "outputs": [],
   "source": [
    "def factor_neutralize(df,factor_type,if_rank=True,risk=None,risk_cols=None): #factor_type=hist原值；ind行业及其他中性；单个风险因子文件名； if_rank：中性化之前时候对因子做rank处理\n",
    "    #中性之前是否对因子做rank处理\n",
    "    if if_rank == True:\n",
    "        df = df.rank(axis=1, ascending=True)  # 原值越大rank值越大   \n",
    "    #因子原值\n",
    "    if factor_type == 'hist':\n",
    "        factor_rank = df.copy()\n",
    "    #行业市值中性\n",
    "    elif factor_type == 'ind':  ###行业和风格中性\n",
    "        def neu_process(df):\n",
    "            df = df.stack().reset_index()\n",
    "            df.columns = ['date','ticker','factor']\n",
    "            df = neturalize_ind(df,risk,risk_cols)\n",
    "            resid = df.set_index(['date','ticker'])['resid'].unstack()\n",
    "            return resid        \n",
    "        factor_rank = neu_process(df)\n",
    "        factor_rank = factor_rank.rank(axis=1,ascending=True) \n",
    "        \n",
    "    return factor_rank"
   ]
  },
  {
   "cell_type": "code",
   "execution_count": 9,
   "id": "ee9881b6",
   "metadata": {},
   "outputs": [],
   "source": [
    "def select_num_stocks(n):\n",
    "    select_stocks = (factor_rank <= n)\n",
    "    select_stocks_last = select_stocks.iloc[-1:,]\n",
    "    select_stocks_last = select_stocks_last.replace(True,1).replace(False,np.nan)\n",
    "    select_stocks_last = select_stocks_last.dropna(how='all',axis=1)\n",
    "    return select_stocks_last"
   ]
  },
  {
   "cell_type": "code",
   "execution_count": 10,
   "id": "3117322c-de2b-46bf-888a-4846200117a8",
   "metadata": {
    "tags": []
   },
   "outputs": [],
   "source": [
    "##因子中性化 需要的数据\n",
    "risk1 = pd.read_pickle('D:/redata/risk_factors/logcmv.pkl')\n",
    "risk2 = pd.read_pickle('D:/redata/risk_factors/retsum120.pkl')\n",
    "ind = pd.read_pickle('D:/redata/risk_factors/ind_label.pkl')\n",
    "# ind = pd.read_pickle('D:/redata/risk_factor/ind_label.pk')\n",
    "risk = risk1.merge(risk2,on=['date','ticker'],how='left')\n",
    "risk = risk.merge(ind,on=['date','ticker'],how='left')\n",
    "risk = risk[(risk['date']>'2017-01-01')]\n",
    "risk = risk.drop_duplicates(keep='last')"
   ]
  },
  {
   "cell_type": "code",
   "execution_count": 11,
   "id": "ce30a712-309f-4515-9f73-18c3c7757313",
   "metadata": {
    "tags": []
   },
   "outputs": [
    {
     "name": "stderr",
     "output_type": "stream",
     "text": [
      "C:\\Users\\sensen.t\\AppData\\Local\\Temp\\ipykernel_8532\\3828553184.py:8: FutureWarning: Downcasting behavior in `replace` is deprecated and will be removed in a future version. To retain the old behavior, explicitly call `result.infer_objects(copy=False)`. To opt-in to the future behavior, set `pd.set_option('future.no_silent_downcasting', True)`\n",
      "  df = df.replace(True,1).replace(False,np.nan)\n"
     ]
    }
   ],
   "source": [
    "##剔除10日内新股，st，halt\n",
    "final_universe = compute_condition(new_stk = 10) "
   ]
  },
  {
   "cell_type": "markdown",
   "id": "4e1cdec3-a488-44f8-b920-49b42058ef71",
   "metadata": {},
   "source": [
    "## factor part"
   ]
  },
  {
   "cell_type": "code",
   "execution_count": 12,
   "id": "0b69efd6-649b-49bc-8a3b-bb79bd2c213b",
   "metadata": {},
   "outputs": [],
   "source": [
    "    # 'D:/redata/Neutraliza/turnoverate@nu.pkl', (换手太高）\n",
    "    # 'D:/redata/Neutraliza/turnover_umr@nu.pkl', (换手太高）\n",
    "    # 'D:/redata/Neutraliza/ret_20@nu.pkl',(换手太高）\n",
    "    # 'D:/redata/Neutraliza/ret20rolling@nu.pkl',（没*-1，换手太高）\n",
    "    # 'D:/redata/Neutraliza/AOGrolling@nu.pkl',（垃圾）\n",
    "    # 'D:/redata/Neutraliza/JOR@nu.pkl',（垃圾）\n",
    "    # 'D:/redata/Neutraliza/ON20@nu.pkl',（没*-1，改进）\n",
    "    # 'D:/redata/Neutraliza/IN20@nu.pkl',（没*-1，改进）\n",
    "\n",
    "\n",
    "    # 'D:/redata/Neutraliza/Mom6m@nu.pkl',(换手太高）\n",
    "    # 'D:/redata/Neutraliza/Mom12m@nu.pkl',改进\n",
    "    # 'D:/redata/Neutraliza/Mom36m@nu.pkl',改进\n",
    "    # 'D:/redata/Neutraliza/MaxRet@nu.pkl',没*-1 改进\n",
    "\n",
    "    # 'D:/redata/Neutraliza/std_turn@nu.pkl',没*-1 优秀\n",
    "    # 'D:/redata/Neutraliza/VolSD@nu.pkl', 没*-1 优秀 改进\n",
    "    # 'D:/redata/Neutraliza/Momss@nu.pkl', 没*-1 差\n",
    "    # 'D:/redata/Neutraliza/turnover_std@nu.pkl', 优秀 收益高波动大\n",
    "    # 'D:/redata/Neutraliza/turnrate_mean@nu.pkl', 优秀 更稳定\n",
    "    # 'D:/redata/Neutraliza/mv@nu.pkl',\n",
    "    # 'D:/redata/Neutraliza/alpha95@nu.pkl', 差\n",
    "    # 'D:/redata/Neutraliza/currentdebtodebt@nu.pkl',改进\n",
    "    # 'D:/redata/Neutraliza/maketcap@nu.pkl',\n",
    "    # 'D:/redata/Neutraliza/total_amount_5@nu.pkl', 没*-1差\n",
    "    # 'D:/redata/Neutraliza/liquidity@nu.pkl', 优秀\n",
    "    # 'D:/redata/Neutraliza/APB_20@nu.pkl', 优秀\n",
    "    # 'D:/redata/Neutraliza/daily_standard_deviation@nu.pkl', 没*-1 优秀\n",
    "    # 'D:/redata/Neutraliza/hml_r_std_6m@nu.pkl', 可用 一般\n",
    "    # 'D:/redata/Neutraliza/hpl_r_std_6m@nu.pkl', 优秀\n",
    "    # 'D:/redata/Neutraliza/william_lowershadow_mean@nu.pkl', 没*-1 换手太高\n",
    "    # 'D:/redata/Neutraliza/adjclose@nu.pkl',\n",
    "    # 'D:/redata/Neutraliza/uppershadow_std@nu.pkl', 没*-1 换手太高\n",
    "    # 'D:/redata/Neutraliza/bias_5@nu.pkl', 没*-1 换手太高\n",
    "    # 'D:/redata/Neutraliza/UBL@nu.pkl', 优秀\n",
    "    # 'D:/redata/Neutraliza/net_profit_Q_yoy@nu.pkl', 优秀\n",
    "    # 'D:/redata/Neutraliza/net_profit_parent_company_Q_yoy@nu.pkl', 优秀\n",
    "    # 'D:/redata/Neutraliza/operating_revenue_Q_yoy@nu.pkl', 优秀\n",
    "    # 'D:/redata/Neutraliza/operating_revenue_TTM@nu.pkl', 优秀\n",
    "    # 'D:/redata/Neutraliza/BP@nu.pkl', 优秀\n",
    "    # 'D:/redata/Neutraliza/EP@nu.pkl', 优秀\n",
    "    # 'D:/redata/Neutraliza/cfp_ttm@nu.pkl', 优秀"
   ]
  },
  {
   "cell_type": "code",
   "execution_count": 13,
   "id": "fdf65428-cd8f-450f-b2bf-d38bc7b6a7a5",
   "metadata": {
    "tags": []
   },
   "outputs": [],
   "source": [
    "df = pd.read_pickle('D:/redata/factor/zscore_volume@factor.pkl') ###读入因子值'Z:/Sen/comb_mean.pkl'\n",
    "# df = df[(df.index>'2017-01-01')]\n",
    "# df = df.rolling(5).mean()\n",
    "# df = -df"
   ]
  },
  {
   "cell_type": "code",
   "execution_count": 14,
   "id": "0eb3ee20-fcf0-4724-8d45-4872b2e6c000",
   "metadata": {},
   "outputs": [],
   "source": [
    "# df = df.drop_duplicates()\n",
    "# df"
   ]
  },
  {
   "cell_type": "code",
   "execution_count": 15,
   "id": "687efbf1-654e-44c5-b87f-d180f0470957",
   "metadata": {},
   "outputs": [],
   "source": [
    "# df = pd.read_pickle('D:/redata/factor/comb_mean_sm.pkl')###读入因子值'Z:/Sen/comb_mean.pkl'\n",
    "# df = df[(df.index >= '2024-01-01')]"
   ]
  },
  {
   "cell_type": "code",
   "execution_count": 16,
   "id": "458298fd",
   "metadata": {},
   "outputs": [],
   "source": [
    "# df = df.replace(np.inf,np.nan).replace(-np.inf,np.nan)"
   ]
  },
  {
   "cell_type": "code",
   "execution_count": 17,
   "id": "93fa2429-8c81-4cdd-a13b-b29a44f03741",
   "metadata": {
    "tags": []
   },
   "outputs": [],
   "source": [
    "#剔除 新股 st halt\n",
    "df_clean = (df * final_universe)\n",
    "df_clean = df_clean.dropna(how='all',axis=0)"
   ]
  },
  {
   "cell_type": "code",
   "execution_count": 31,
   "id": "ba6e9ec6-db20-40e9-97ef-9b1fac487bff",
   "metadata": {
    "tags": []
   },
   "outputs": [],
   "source": [
    "factor_type = 'hist'  # 'hist' 因子原值， 'ind' 对因子做行业中性\n",
    "factor_rank = factor_neutralize(df_clean,factor_type,if_rank=True,risk=risk,risk_cols=['logcmv','retsum120']) \n",
    "factor_rank = factor_rank.drop_duplicates()"
   ]
  },
  {
   "cell_type": "code",
   "execution_count": 32,
   "id": "6d3bf871-42a6-431f-8df5-ab3aca292e1b",
   "metadata": {
    "scrolled": true
   },
   "outputs": [
    {
     "data": {
      "text/html": [
       "<div>\n",
       "<style scoped>\n",
       "    .dataframe tbody tr th:only-of-type {\n",
       "        vertical-align: middle;\n",
       "    }\n",
       "\n",
       "    .dataframe tbody tr th {\n",
       "        vertical-align: top;\n",
       "    }\n",
       "\n",
       "    .dataframe thead th {\n",
       "        text-align: right;\n",
       "    }\n",
       "</style>\n",
       "<table border=\"1\" class=\"dataframe\">\n",
       "  <thead>\n",
       "    <tr style=\"text-align: right;\">\n",
       "      <th>ticker</th>\n",
       "      <th>000001</th>\n",
       "      <th>000002</th>\n",
       "      <th>000004</th>\n",
       "      <th>000005</th>\n",
       "      <th>000006</th>\n",
       "      <th>000007</th>\n",
       "      <th>000008</th>\n",
       "      <th>000009</th>\n",
       "      <th>000010</th>\n",
       "      <th>000011</th>\n",
       "      <th>...</th>\n",
       "      <th>688787</th>\n",
       "      <th>688788</th>\n",
       "      <th>688789</th>\n",
       "      <th>688793</th>\n",
       "      <th>688798</th>\n",
       "      <th>688799</th>\n",
       "      <th>688800</th>\n",
       "      <th>688819</th>\n",
       "      <th>688981</th>\n",
       "      <th>689009</th>\n",
       "    </tr>\n",
       "    <tr>\n",
       "      <th>date</th>\n",
       "      <th></th>\n",
       "      <th></th>\n",
       "      <th></th>\n",
       "      <th></th>\n",
       "      <th></th>\n",
       "      <th></th>\n",
       "      <th></th>\n",
       "      <th></th>\n",
       "      <th></th>\n",
       "      <th></th>\n",
       "      <th></th>\n",
       "      <th></th>\n",
       "      <th></th>\n",
       "      <th></th>\n",
       "      <th></th>\n",
       "      <th></th>\n",
       "      <th></th>\n",
       "      <th></th>\n",
       "      <th></th>\n",
       "      <th></th>\n",
       "      <th></th>\n",
       "    </tr>\n",
       "  </thead>\n",
       "  <tbody>\n",
       "    <tr>\n",
       "      <th>2017-03-20</th>\n",
       "      <td>1886.0</td>\n",
       "      <td>NaN</td>\n",
       "      <td>2461.0</td>\n",
       "      <td>1610.0</td>\n",
       "      <td>797.0</td>\n",
       "      <td>NaN</td>\n",
       "      <td>2392.0</td>\n",
       "      <td>2032.0</td>\n",
       "      <td>1471.0</td>\n",
       "      <td>304.0</td>\n",
       "      <td>...</td>\n",
       "      <td>NaN</td>\n",
       "      <td>NaN</td>\n",
       "      <td>NaN</td>\n",
       "      <td>NaN</td>\n",
       "      <td>NaN</td>\n",
       "      <td>NaN</td>\n",
       "      <td>NaN</td>\n",
       "      <td>NaN</td>\n",
       "      <td>NaN</td>\n",
       "      <td>NaN</td>\n",
       "    </tr>\n",
       "    <tr>\n",
       "      <th>2017-03-21</th>\n",
       "      <td>1905.0</td>\n",
       "      <td>NaN</td>\n",
       "      <td>2473.0</td>\n",
       "      <td>1624.0</td>\n",
       "      <td>758.0</td>\n",
       "      <td>NaN</td>\n",
       "      <td>2412.0</td>\n",
       "      <td>2014.0</td>\n",
       "      <td>1009.0</td>\n",
       "      <td>274.0</td>\n",
       "      <td>...</td>\n",
       "      <td>NaN</td>\n",
       "      <td>NaN</td>\n",
       "      <td>NaN</td>\n",
       "      <td>NaN</td>\n",
       "      <td>NaN</td>\n",
       "      <td>NaN</td>\n",
       "      <td>NaN</td>\n",
       "      <td>NaN</td>\n",
       "      <td>NaN</td>\n",
       "      <td>NaN</td>\n",
       "    </tr>\n",
       "    <tr>\n",
       "      <th>2017-03-22</th>\n",
       "      <td>1918.0</td>\n",
       "      <td>NaN</td>\n",
       "      <td>2490.0</td>\n",
       "      <td>1626.0</td>\n",
       "      <td>780.0</td>\n",
       "      <td>NaN</td>\n",
       "      <td>2417.0</td>\n",
       "      <td>2037.0</td>\n",
       "      <td>1064.0</td>\n",
       "      <td>285.0</td>\n",
       "      <td>...</td>\n",
       "      <td>NaN</td>\n",
       "      <td>NaN</td>\n",
       "      <td>NaN</td>\n",
       "      <td>NaN</td>\n",
       "      <td>NaN</td>\n",
       "      <td>NaN</td>\n",
       "      <td>NaN</td>\n",
       "      <td>NaN</td>\n",
       "      <td>NaN</td>\n",
       "      <td>NaN</td>\n",
       "    </tr>\n",
       "    <tr>\n",
       "      <th>2017-03-23</th>\n",
       "      <td>1943.0</td>\n",
       "      <td>NaN</td>\n",
       "      <td>2492.0</td>\n",
       "      <td>1615.0</td>\n",
       "      <td>754.0</td>\n",
       "      <td>NaN</td>\n",
       "      <td>2422.0</td>\n",
       "      <td>2044.0</td>\n",
       "      <td>1069.0</td>\n",
       "      <td>255.0</td>\n",
       "      <td>...</td>\n",
       "      <td>NaN</td>\n",
       "      <td>NaN</td>\n",
       "      <td>NaN</td>\n",
       "      <td>NaN</td>\n",
       "      <td>NaN</td>\n",
       "      <td>NaN</td>\n",
       "      <td>NaN</td>\n",
       "      <td>NaN</td>\n",
       "      <td>NaN</td>\n",
       "      <td>NaN</td>\n",
       "    </tr>\n",
       "    <tr>\n",
       "      <th>2017-03-24</th>\n",
       "      <td>1950.0</td>\n",
       "      <td>NaN</td>\n",
       "      <td>2502.0</td>\n",
       "      <td>1543.0</td>\n",
       "      <td>1240.0</td>\n",
       "      <td>NaN</td>\n",
       "      <td>2371.0</td>\n",
       "      <td>2002.0</td>\n",
       "      <td>1044.0</td>\n",
       "      <td>694.0</td>\n",
       "      <td>...</td>\n",
       "      <td>NaN</td>\n",
       "      <td>NaN</td>\n",
       "      <td>NaN</td>\n",
       "      <td>NaN</td>\n",
       "      <td>NaN</td>\n",
       "      <td>NaN</td>\n",
       "      <td>NaN</td>\n",
       "      <td>NaN</td>\n",
       "      <td>NaN</td>\n",
       "      <td>NaN</td>\n",
       "    </tr>\n",
       "    <tr>\n",
       "      <th>...</th>\n",
       "      <td>...</td>\n",
       "      <td>...</td>\n",
       "      <td>...</td>\n",
       "      <td>...</td>\n",
       "      <td>...</td>\n",
       "      <td>...</td>\n",
       "      <td>...</td>\n",
       "      <td>...</td>\n",
       "      <td>...</td>\n",
       "      <td>...</td>\n",
       "      <td>...</td>\n",
       "      <td>...</td>\n",
       "      <td>...</td>\n",
       "      <td>...</td>\n",
       "      <td>...</td>\n",
       "      <td>...</td>\n",
       "      <td>...</td>\n",
       "      <td>...</td>\n",
       "      <td>...</td>\n",
       "      <td>...</td>\n",
       "      <td>...</td>\n",
       "    </tr>\n",
       "    <tr>\n",
       "      <th>2025-02-18</th>\n",
       "      <td>4549.0</td>\n",
       "      <td>1288.0</td>\n",
       "      <td>1802.0</td>\n",
       "      <td>NaN</td>\n",
       "      <td>3567.0</td>\n",
       "      <td>2314.0</td>\n",
       "      <td>197.0</td>\n",
       "      <td>2565.0</td>\n",
       "      <td>3060.0</td>\n",
       "      <td>1889.0</td>\n",
       "      <td>...</td>\n",
       "      <td>4515.0</td>\n",
       "      <td>344.0</td>\n",
       "      <td>4542.0</td>\n",
       "      <td>1151.0</td>\n",
       "      <td>4354.0</td>\n",
       "      <td>4710.0</td>\n",
       "      <td>4066.0</td>\n",
       "      <td>2136.0</td>\n",
       "      <td>4222.0</td>\n",
       "      <td>4613.0</td>\n",
       "    </tr>\n",
       "    <tr>\n",
       "      <th>2025-02-19</th>\n",
       "      <td>4546.0</td>\n",
       "      <td>1328.0</td>\n",
       "      <td>1798.0</td>\n",
       "      <td>NaN</td>\n",
       "      <td>4039.0</td>\n",
       "      <td>2339.0</td>\n",
       "      <td>246.0</td>\n",
       "      <td>2651.0</td>\n",
       "      <td>3057.0</td>\n",
       "      <td>1971.0</td>\n",
       "      <td>...</td>\n",
       "      <td>4466.0</td>\n",
       "      <td>217.0</td>\n",
       "      <td>4547.0</td>\n",
       "      <td>1088.0</td>\n",
       "      <td>4338.0</td>\n",
       "      <td>4699.0</td>\n",
       "      <td>4088.0</td>\n",
       "      <td>1854.0</td>\n",
       "      <td>4223.0</td>\n",
       "      <td>4602.0</td>\n",
       "    </tr>\n",
       "    <tr>\n",
       "      <th>2025-02-20</th>\n",
       "      <td>4516.0</td>\n",
       "      <td>1321.0</td>\n",
       "      <td>1681.0</td>\n",
       "      <td>NaN</td>\n",
       "      <td>4098.0</td>\n",
       "      <td>2243.0</td>\n",
       "      <td>245.0</td>\n",
       "      <td>2631.0</td>\n",
       "      <td>2941.0</td>\n",
       "      <td>1938.0</td>\n",
       "      <td>...</td>\n",
       "      <td>4519.0</td>\n",
       "      <td>226.0</td>\n",
       "      <td>4542.0</td>\n",
       "      <td>1069.0</td>\n",
       "      <td>4350.0</td>\n",
       "      <td>4669.0</td>\n",
       "      <td>3997.0</td>\n",
       "      <td>1828.0</td>\n",
       "      <td>4224.0</td>\n",
       "      <td>4589.0</td>\n",
       "    </tr>\n",
       "    <tr>\n",
       "      <th>2025-02-21</th>\n",
       "      <td>4520.0</td>\n",
       "      <td>1362.0</td>\n",
       "      <td>1658.0</td>\n",
       "      <td>NaN</td>\n",
       "      <td>4101.0</td>\n",
       "      <td>2166.0</td>\n",
       "      <td>289.0</td>\n",
       "      <td>2614.0</td>\n",
       "      <td>2820.0</td>\n",
       "      <td>2168.0</td>\n",
       "      <td>...</td>\n",
       "      <td>4608.0</td>\n",
       "      <td>177.0</td>\n",
       "      <td>4587.0</td>\n",
       "      <td>991.0</td>\n",
       "      <td>4376.0</td>\n",
       "      <td>4683.0</td>\n",
       "      <td>4056.0</td>\n",
       "      <td>1007.0</td>\n",
       "      <td>4167.0</td>\n",
       "      <td>4232.0</td>\n",
       "    </tr>\n",
       "    <tr>\n",
       "      <th>2025-02-24</th>\n",
       "      <td>4566.0</td>\n",
       "      <td>1448.0</td>\n",
       "      <td>1768.0</td>\n",
       "      <td>NaN</td>\n",
       "      <td>4117.0</td>\n",
       "      <td>2182.0</td>\n",
       "      <td>316.0</td>\n",
       "      <td>2640.0</td>\n",
       "      <td>2910.0</td>\n",
       "      <td>2152.0</td>\n",
       "      <td>...</td>\n",
       "      <td>4592.0</td>\n",
       "      <td>158.0</td>\n",
       "      <td>4511.0</td>\n",
       "      <td>1065.0</td>\n",
       "      <td>4375.0</td>\n",
       "      <td>4718.0</td>\n",
       "      <td>4085.0</td>\n",
       "      <td>1021.0</td>\n",
       "      <td>4267.0</td>\n",
       "      <td>4307.0</td>\n",
       "    </tr>\n",
       "  </tbody>\n",
       "</table>\n",
       "<p>1926 rows × 5357 columns</p>\n",
       "</div>"
      ],
      "text/plain": [
       "ticker      000001  000002  000004  000005  000006  000007  000008  000009  \\\n",
       "date                                                                         \n",
       "2017-03-20  1886.0     NaN  2461.0  1610.0   797.0     NaN  2392.0  2032.0   \n",
       "2017-03-21  1905.0     NaN  2473.0  1624.0   758.0     NaN  2412.0  2014.0   \n",
       "2017-03-22  1918.0     NaN  2490.0  1626.0   780.0     NaN  2417.0  2037.0   \n",
       "2017-03-23  1943.0     NaN  2492.0  1615.0   754.0     NaN  2422.0  2044.0   \n",
       "2017-03-24  1950.0     NaN  2502.0  1543.0  1240.0     NaN  2371.0  2002.0   \n",
       "...            ...     ...     ...     ...     ...     ...     ...     ...   \n",
       "2025-02-18  4549.0  1288.0  1802.0     NaN  3567.0  2314.0   197.0  2565.0   \n",
       "2025-02-19  4546.0  1328.0  1798.0     NaN  4039.0  2339.0   246.0  2651.0   \n",
       "2025-02-20  4516.0  1321.0  1681.0     NaN  4098.0  2243.0   245.0  2631.0   \n",
       "2025-02-21  4520.0  1362.0  1658.0     NaN  4101.0  2166.0   289.0  2614.0   \n",
       "2025-02-24  4566.0  1448.0  1768.0     NaN  4117.0  2182.0   316.0  2640.0   \n",
       "\n",
       "ticker      000010  000011  ...  688787  688788  688789  688793  688798  \\\n",
       "date                        ...                                           \n",
       "2017-03-20  1471.0   304.0  ...     NaN     NaN     NaN     NaN     NaN   \n",
       "2017-03-21  1009.0   274.0  ...     NaN     NaN     NaN     NaN     NaN   \n",
       "2017-03-22  1064.0   285.0  ...     NaN     NaN     NaN     NaN     NaN   \n",
       "2017-03-23  1069.0   255.0  ...     NaN     NaN     NaN     NaN     NaN   \n",
       "2017-03-24  1044.0   694.0  ...     NaN     NaN     NaN     NaN     NaN   \n",
       "...            ...     ...  ...     ...     ...     ...     ...     ...   \n",
       "2025-02-18  3060.0  1889.0  ...  4515.0   344.0  4542.0  1151.0  4354.0   \n",
       "2025-02-19  3057.0  1971.0  ...  4466.0   217.0  4547.0  1088.0  4338.0   \n",
       "2025-02-20  2941.0  1938.0  ...  4519.0   226.0  4542.0  1069.0  4350.0   \n",
       "2025-02-21  2820.0  2168.0  ...  4608.0   177.0  4587.0   991.0  4376.0   \n",
       "2025-02-24  2910.0  2152.0  ...  4592.0   158.0  4511.0  1065.0  4375.0   \n",
       "\n",
       "ticker      688799  688800  688819  688981  689009  \n",
       "date                                                \n",
       "2017-03-20     NaN     NaN     NaN     NaN     NaN  \n",
       "2017-03-21     NaN     NaN     NaN     NaN     NaN  \n",
       "2017-03-22     NaN     NaN     NaN     NaN     NaN  \n",
       "2017-03-23     NaN     NaN     NaN     NaN     NaN  \n",
       "2017-03-24     NaN     NaN     NaN     NaN     NaN  \n",
       "...            ...     ...     ...     ...     ...  \n",
       "2025-02-18  4710.0  4066.0  2136.0  4222.0  4613.0  \n",
       "2025-02-19  4699.0  4088.0  1854.0  4223.0  4602.0  \n",
       "2025-02-20  4669.0  3997.0  1828.0  4224.0  4589.0  \n",
       "2025-02-21  4683.0  4056.0  1007.0  4167.0  4232.0  \n",
       "2025-02-24  4718.0  4085.0  1021.0  4267.0  4307.0  \n",
       "\n",
       "[1926 rows x 5357 columns]"
      ]
     },
     "execution_count": 32,
     "metadata": {},
     "output_type": "execute_result"
    }
   ],
   "source": [
    "factor_rank"
   ]
  },
  {
   "cell_type": "code",
   "execution_count": 33,
   "id": "c2dd6c6d-6561-4fae-8e95-7882b2c88ab3",
   "metadata": {
    "scrolled": true
   },
   "outputs": [
    {
     "data": {
      "text/html": [
       "<div>\n",
       "<style scoped>\n",
       "    .dataframe tbody tr th:only-of-type {\n",
       "        vertical-align: middle;\n",
       "    }\n",
       "\n",
       "    .dataframe tbody tr th {\n",
       "        vertical-align: top;\n",
       "    }\n",
       "\n",
       "    .dataframe thead th {\n",
       "        text-align: right;\n",
       "    }\n",
       "</style>\n",
       "<table border=\"1\" class=\"dataframe\">\n",
       "  <thead>\n",
       "    <tr style=\"text-align: right;\">\n",
       "      <th>ticker</th>\n",
       "      <th>000001</th>\n",
       "      <th>000002</th>\n",
       "      <th>000004</th>\n",
       "      <th>000005</th>\n",
       "      <th>000006</th>\n",
       "      <th>000007</th>\n",
       "      <th>000008</th>\n",
       "      <th>000009</th>\n",
       "      <th>000010</th>\n",
       "      <th>000011</th>\n",
       "      <th>...</th>\n",
       "      <th>688787</th>\n",
       "      <th>688788</th>\n",
       "      <th>688789</th>\n",
       "      <th>688793</th>\n",
       "      <th>688798</th>\n",
       "      <th>688799</th>\n",
       "      <th>688800</th>\n",
       "      <th>688819</th>\n",
       "      <th>688981</th>\n",
       "      <th>689009</th>\n",
       "    </tr>\n",
       "    <tr>\n",
       "      <th>date</th>\n",
       "      <th></th>\n",
       "      <th></th>\n",
       "      <th></th>\n",
       "      <th></th>\n",
       "      <th></th>\n",
       "      <th></th>\n",
       "      <th></th>\n",
       "      <th></th>\n",
       "      <th></th>\n",
       "      <th></th>\n",
       "      <th></th>\n",
       "      <th></th>\n",
       "      <th></th>\n",
       "      <th></th>\n",
       "      <th></th>\n",
       "      <th></th>\n",
       "      <th></th>\n",
       "      <th></th>\n",
       "      <th></th>\n",
       "      <th></th>\n",
       "      <th></th>\n",
       "    </tr>\n",
       "  </thead>\n",
       "  <tbody>\n",
       "    <tr>\n",
       "      <th>2014-01-02</th>\n",
       "      <td>1096.0</td>\n",
       "      <td>383.5</td>\n",
       "      <td>2243.0</td>\n",
       "      <td>1140.0</td>\n",
       "      <td>125.0</td>\n",
       "      <td>2209.0</td>\n",
       "      <td>179.0</td>\n",
       "      <td>585.0</td>\n",
       "      <td>154.0</td>\n",
       "      <td>298.0</td>\n",
       "      <td>...</td>\n",
       "      <td>NaN</td>\n",
       "      <td>NaN</td>\n",
       "      <td>NaN</td>\n",
       "      <td>NaN</td>\n",
       "      <td>NaN</td>\n",
       "      <td>NaN</td>\n",
       "      <td>NaN</td>\n",
       "      <td>NaN</td>\n",
       "      <td>NaN</td>\n",
       "      <td>NaN</td>\n",
       "    </tr>\n",
       "    <tr>\n",
       "      <th>2014-01-03</th>\n",
       "      <td>1847.0</td>\n",
       "      <td>921.0</td>\n",
       "      <td>2243.0</td>\n",
       "      <td>1580.0</td>\n",
       "      <td>42.0</td>\n",
       "      <td>1957.0</td>\n",
       "      <td>86.0</td>\n",
       "      <td>891.0</td>\n",
       "      <td>996.0</td>\n",
       "      <td>596.0</td>\n",
       "      <td>...</td>\n",
       "      <td>NaN</td>\n",
       "      <td>NaN</td>\n",
       "      <td>NaN</td>\n",
       "      <td>NaN</td>\n",
       "      <td>NaN</td>\n",
       "      <td>NaN</td>\n",
       "      <td>NaN</td>\n",
       "      <td>NaN</td>\n",
       "      <td>NaN</td>\n",
       "      <td>NaN</td>\n",
       "    </tr>\n",
       "    <tr>\n",
       "      <th>2014-01-06</th>\n",
       "      <td>2107.0</td>\n",
       "      <td>1598.0</td>\n",
       "      <td>189.5</td>\n",
       "      <td>969.0</td>\n",
       "      <td>300.0</td>\n",
       "      <td>1944.0</td>\n",
       "      <td>861.0</td>\n",
       "      <td>824.0</td>\n",
       "      <td>1304.0</td>\n",
       "      <td>299.0</td>\n",
       "      <td>...</td>\n",
       "      <td>NaN</td>\n",
       "      <td>NaN</td>\n",
       "      <td>NaN</td>\n",
       "      <td>NaN</td>\n",
       "      <td>NaN</td>\n",
       "      <td>NaN</td>\n",
       "      <td>NaN</td>\n",
       "      <td>NaN</td>\n",
       "      <td>NaN</td>\n",
       "      <td>NaN</td>\n",
       "    </tr>\n",
       "    <tr>\n",
       "      <th>2014-01-07</th>\n",
       "      <td>1855.0</td>\n",
       "      <td>1227.0</td>\n",
       "      <td>338.0</td>\n",
       "      <td>862.0</td>\n",
       "      <td>632.0</td>\n",
       "      <td>1053.0</td>\n",
       "      <td>2046.0</td>\n",
       "      <td>1198.0</td>\n",
       "      <td>926.0</td>\n",
       "      <td>411.0</td>\n",
       "      <td>...</td>\n",
       "      <td>NaN</td>\n",
       "      <td>NaN</td>\n",
       "      <td>NaN</td>\n",
       "      <td>NaN</td>\n",
       "      <td>NaN</td>\n",
       "      <td>NaN</td>\n",
       "      <td>NaN</td>\n",
       "      <td>NaN</td>\n",
       "      <td>NaN</td>\n",
       "      <td>NaN</td>\n",
       "    </tr>\n",
       "    <tr>\n",
       "      <th>2014-01-08</th>\n",
       "      <td>1754.0</td>\n",
       "      <td>819.0</td>\n",
       "      <td>188.0</td>\n",
       "      <td>1081.0</td>\n",
       "      <td>966.5</td>\n",
       "      <td>211.0</td>\n",
       "      <td>2328.0</td>\n",
       "      <td>1431.0</td>\n",
       "      <td>265.0</td>\n",
       "      <td>596.0</td>\n",
       "      <td>...</td>\n",
       "      <td>NaN</td>\n",
       "      <td>NaN</td>\n",
       "      <td>NaN</td>\n",
       "      <td>NaN</td>\n",
       "      <td>NaN</td>\n",
       "      <td>NaN</td>\n",
       "      <td>NaN</td>\n",
       "      <td>NaN</td>\n",
       "      <td>NaN</td>\n",
       "      <td>NaN</td>\n",
       "    </tr>\n",
       "    <tr>\n",
       "      <th>...</th>\n",
       "      <td>...</td>\n",
       "      <td>...</td>\n",
       "      <td>...</td>\n",
       "      <td>...</td>\n",
       "      <td>...</td>\n",
       "      <td>...</td>\n",
       "      <td>...</td>\n",
       "      <td>...</td>\n",
       "      <td>...</td>\n",
       "      <td>...</td>\n",
       "      <td>...</td>\n",
       "      <td>...</td>\n",
       "      <td>...</td>\n",
       "      <td>...</td>\n",
       "      <td>...</td>\n",
       "      <td>...</td>\n",
       "      <td>...</td>\n",
       "      <td>...</td>\n",
       "      <td>...</td>\n",
       "      <td>...</td>\n",
       "      <td>...</td>\n",
       "    </tr>\n",
       "    <tr>\n",
       "      <th>2025-04-02</th>\n",
       "      <td>NaN</td>\n",
       "      <td>NaN</td>\n",
       "      <td>NaN</td>\n",
       "      <td>NaN</td>\n",
       "      <td>NaN</td>\n",
       "      <td>NaN</td>\n",
       "      <td>NaN</td>\n",
       "      <td>NaN</td>\n",
       "      <td>NaN</td>\n",
       "      <td>NaN</td>\n",
       "      <td>...</td>\n",
       "      <td>NaN</td>\n",
       "      <td>NaN</td>\n",
       "      <td>NaN</td>\n",
       "      <td>NaN</td>\n",
       "      <td>NaN</td>\n",
       "      <td>NaN</td>\n",
       "      <td>NaN</td>\n",
       "      <td>NaN</td>\n",
       "      <td>NaN</td>\n",
       "      <td>NaN</td>\n",
       "    </tr>\n",
       "    <tr>\n",
       "      <th>2025-04-03</th>\n",
       "      <td>NaN</td>\n",
       "      <td>NaN</td>\n",
       "      <td>NaN</td>\n",
       "      <td>NaN</td>\n",
       "      <td>NaN</td>\n",
       "      <td>NaN</td>\n",
       "      <td>NaN</td>\n",
       "      <td>NaN</td>\n",
       "      <td>NaN</td>\n",
       "      <td>NaN</td>\n",
       "      <td>...</td>\n",
       "      <td>NaN</td>\n",
       "      <td>NaN</td>\n",
       "      <td>NaN</td>\n",
       "      <td>NaN</td>\n",
       "      <td>NaN</td>\n",
       "      <td>NaN</td>\n",
       "      <td>NaN</td>\n",
       "      <td>NaN</td>\n",
       "      <td>NaN</td>\n",
       "      <td>NaN</td>\n",
       "    </tr>\n",
       "    <tr>\n",
       "      <th>2025-04-07</th>\n",
       "      <td>NaN</td>\n",
       "      <td>NaN</td>\n",
       "      <td>NaN</td>\n",
       "      <td>NaN</td>\n",
       "      <td>NaN</td>\n",
       "      <td>NaN</td>\n",
       "      <td>NaN</td>\n",
       "      <td>NaN</td>\n",
       "      <td>NaN</td>\n",
       "      <td>NaN</td>\n",
       "      <td>...</td>\n",
       "      <td>NaN</td>\n",
       "      <td>NaN</td>\n",
       "      <td>NaN</td>\n",
       "      <td>NaN</td>\n",
       "      <td>NaN</td>\n",
       "      <td>NaN</td>\n",
       "      <td>NaN</td>\n",
       "      <td>NaN</td>\n",
       "      <td>NaN</td>\n",
       "      <td>NaN</td>\n",
       "    </tr>\n",
       "    <tr>\n",
       "      <th>2025-04-08</th>\n",
       "      <td>NaN</td>\n",
       "      <td>NaN</td>\n",
       "      <td>NaN</td>\n",
       "      <td>NaN</td>\n",
       "      <td>NaN</td>\n",
       "      <td>NaN</td>\n",
       "      <td>NaN</td>\n",
       "      <td>NaN</td>\n",
       "      <td>NaN</td>\n",
       "      <td>NaN</td>\n",
       "      <td>...</td>\n",
       "      <td>NaN</td>\n",
       "      <td>NaN</td>\n",
       "      <td>NaN</td>\n",
       "      <td>NaN</td>\n",
       "      <td>NaN</td>\n",
       "      <td>NaN</td>\n",
       "      <td>NaN</td>\n",
       "      <td>NaN</td>\n",
       "      <td>NaN</td>\n",
       "      <td>NaN</td>\n",
       "    </tr>\n",
       "    <tr>\n",
       "      <th>2025-04-09</th>\n",
       "      <td>NaN</td>\n",
       "      <td>NaN</td>\n",
       "      <td>NaN</td>\n",
       "      <td>NaN</td>\n",
       "      <td>NaN</td>\n",
       "      <td>NaN</td>\n",
       "      <td>NaN</td>\n",
       "      <td>NaN</td>\n",
       "      <td>NaN</td>\n",
       "      <td>NaN</td>\n",
       "      <td>...</td>\n",
       "      <td>NaN</td>\n",
       "      <td>NaN</td>\n",
       "      <td>NaN</td>\n",
       "      <td>NaN</td>\n",
       "      <td>NaN</td>\n",
       "      <td>NaN</td>\n",
       "      <td>NaN</td>\n",
       "      <td>NaN</td>\n",
       "      <td>NaN</td>\n",
       "      <td>NaN</td>\n",
       "    </tr>\n",
       "  </tbody>\n",
       "</table>\n",
       "<p>2739 rows × 5357 columns</p>\n",
       "</div>"
      ],
      "text/plain": [
       "ticker      000001  000002  000004  000005  000006  000007  000008  000009  \\\n",
       "date                                                                         \n",
       "2014-01-02  1096.0   383.5  2243.0  1140.0   125.0  2209.0   179.0   585.0   \n",
       "2014-01-03  1847.0   921.0  2243.0  1580.0    42.0  1957.0    86.0   891.0   \n",
       "2014-01-06  2107.0  1598.0   189.5   969.0   300.0  1944.0   861.0   824.0   \n",
       "2014-01-07  1855.0  1227.0   338.0   862.0   632.0  1053.0  2046.0  1198.0   \n",
       "2014-01-08  1754.0   819.0   188.0  1081.0   966.5   211.0  2328.0  1431.0   \n",
       "...            ...     ...     ...     ...     ...     ...     ...     ...   \n",
       "2025-04-02     NaN     NaN     NaN     NaN     NaN     NaN     NaN     NaN   \n",
       "2025-04-03     NaN     NaN     NaN     NaN     NaN     NaN     NaN     NaN   \n",
       "2025-04-07     NaN     NaN     NaN     NaN     NaN     NaN     NaN     NaN   \n",
       "2025-04-08     NaN     NaN     NaN     NaN     NaN     NaN     NaN     NaN   \n",
       "2025-04-09     NaN     NaN     NaN     NaN     NaN     NaN     NaN     NaN   \n",
       "\n",
       "ticker      000010  000011  ...  688787  688788  688789  688793  688798  \\\n",
       "date                        ...                                           \n",
       "2014-01-02   154.0   298.0  ...     NaN     NaN     NaN     NaN     NaN   \n",
       "2014-01-03   996.0   596.0  ...     NaN     NaN     NaN     NaN     NaN   \n",
       "2014-01-06  1304.0   299.0  ...     NaN     NaN     NaN     NaN     NaN   \n",
       "2014-01-07   926.0   411.0  ...     NaN     NaN     NaN     NaN     NaN   \n",
       "2014-01-08   265.0   596.0  ...     NaN     NaN     NaN     NaN     NaN   \n",
       "...            ...     ...  ...     ...     ...     ...     ...     ...   \n",
       "2025-04-02     NaN     NaN  ...     NaN     NaN     NaN     NaN     NaN   \n",
       "2025-04-03     NaN     NaN  ...     NaN     NaN     NaN     NaN     NaN   \n",
       "2025-04-07     NaN     NaN  ...     NaN     NaN     NaN     NaN     NaN   \n",
       "2025-04-08     NaN     NaN  ...     NaN     NaN     NaN     NaN     NaN   \n",
       "2025-04-09     NaN     NaN  ...     NaN     NaN     NaN     NaN     NaN   \n",
       "\n",
       "ticker      688799  688800  688819  688981  689009  \n",
       "date                                                \n",
       "2014-01-02     NaN     NaN     NaN     NaN     NaN  \n",
       "2014-01-03     NaN     NaN     NaN     NaN     NaN  \n",
       "2014-01-06     NaN     NaN     NaN     NaN     NaN  \n",
       "2014-01-07     NaN     NaN     NaN     NaN     NaN  \n",
       "2014-01-08     NaN     NaN     NaN     NaN     NaN  \n",
       "...            ...     ...     ...     ...     ...  \n",
       "2025-04-02     NaN     NaN     NaN     NaN     NaN  \n",
       "2025-04-03     NaN     NaN     NaN     NaN     NaN  \n",
       "2025-04-07     NaN     NaN     NaN     NaN     NaN  \n",
       "2025-04-08     NaN     NaN     NaN     NaN     NaN  \n",
       "2025-04-09     NaN     NaN     NaN     NaN     NaN  \n",
       "\n",
       "[2739 rows x 5357 columns]"
      ]
     },
     "execution_count": 33,
     "metadata": {},
     "output_type": "execute_result"
    }
   ],
   "source": [
    "ret_rank"
   ]
  },
  {
   "cell_type": "code",
   "execution_count": 34,
   "id": "a37046a0",
   "metadata": {
    "scrolled": true
   },
   "outputs": [],
   "source": [
    "# factor_rank.count(axis = 1).plot()"
   ]
  },
  {
   "cell_type": "code",
   "execution_count": 35,
   "id": "f248e208",
   "metadata": {
    "scrolled": true
   },
   "outputs": [
    {
     "name": "stderr",
     "output_type": "stream",
     "text": [
      "C:\\Users\\sensen.t\\AppData\\Local\\Temp\\ipykernel_8532\\3449027321.py:4: FutureWarning: Downcasting behavior in `replace` is deprecated and will be removed in a future version. To retain the old behavior, explicitly call `result.infer_objects(copy=False)`. To opt-in to the future behavior, set `pd.set_option('future.no_silent_downcasting', True)`\n",
      "  select_stocks_last = select_stocks_last.replace(True,1).replace(False,np.nan)\n"
     ]
    },
    {
     "data": {
      "text/html": [
       "<div>\n",
       "<style scoped>\n",
       "    .dataframe tbody tr th:only-of-type {\n",
       "        vertical-align: middle;\n",
       "    }\n",
       "\n",
       "    .dataframe tbody tr th {\n",
       "        vertical-align: top;\n",
       "    }\n",
       "\n",
       "    .dataframe thead th {\n",
       "        text-align: right;\n",
       "    }\n",
       "</style>\n",
       "<table border=\"1\" class=\"dataframe\">\n",
       "  <thead>\n",
       "    <tr style=\"text-align: right;\">\n",
       "      <th>ticker</th>\n",
       "      <th>000967</th>\n",
       "      <th>002044</th>\n",
       "      <th>002065</th>\n",
       "      <th>300019</th>\n",
       "      <th>300490</th>\n",
       "      <th>300946</th>\n",
       "      <th>301196</th>\n",
       "      <th>301238</th>\n",
       "      <th>600126</th>\n",
       "      <th>600633</th>\n",
       "      <th>600884</th>\n",
       "      <th>601177</th>\n",
       "      <th>603209</th>\n",
       "      <th>603956</th>\n",
       "      <th>605255</th>\n",
       "      <th>688151</th>\n",
       "      <th>688316</th>\n",
       "      <th>688393</th>\n",
       "      <th>688611</th>\n",
       "      <th>688719</th>\n",
       "    </tr>\n",
       "    <tr>\n",
       "      <th>date</th>\n",
       "      <th></th>\n",
       "      <th></th>\n",
       "      <th></th>\n",
       "      <th></th>\n",
       "      <th></th>\n",
       "      <th></th>\n",
       "      <th></th>\n",
       "      <th></th>\n",
       "      <th></th>\n",
       "      <th></th>\n",
       "      <th></th>\n",
       "      <th></th>\n",
       "      <th></th>\n",
       "      <th></th>\n",
       "      <th></th>\n",
       "      <th></th>\n",
       "      <th></th>\n",
       "      <th></th>\n",
       "      <th></th>\n",
       "      <th></th>\n",
       "    </tr>\n",
       "  </thead>\n",
       "  <tbody>\n",
       "    <tr>\n",
       "      <th>2025-02-24</th>\n",
       "      <td>1</td>\n",
       "      <td>1</td>\n",
       "      <td>1</td>\n",
       "      <td>1</td>\n",
       "      <td>1</td>\n",
       "      <td>1</td>\n",
       "      <td>1</td>\n",
       "      <td>1</td>\n",
       "      <td>1</td>\n",
       "      <td>1</td>\n",
       "      <td>1</td>\n",
       "      <td>1</td>\n",
       "      <td>1</td>\n",
       "      <td>1</td>\n",
       "      <td>1</td>\n",
       "      <td>1</td>\n",
       "      <td>1</td>\n",
       "      <td>1</td>\n",
       "      <td>1</td>\n",
       "      <td>1</td>\n",
       "    </tr>\n",
       "  </tbody>\n",
       "</table>\n",
       "</div>"
      ],
      "text/plain": [
       "ticker      000967  002044  002065  300019  300490  300946  301196  301238  \\\n",
       "date                                                                         \n",
       "2025-02-24       1       1       1       1       1       1       1       1   \n",
       "\n",
       "ticker      600126  600633  600884  601177  603209  603956  605255  688151  \\\n",
       "date                                                                         \n",
       "2025-02-24       1       1       1       1       1       1       1       1   \n",
       "\n",
       "ticker      688316  688393  688611  688719  \n",
       "date                                        \n",
       "2025-02-24       1       1       1       1  "
      ]
     },
     "execution_count": 35,
     "metadata": {},
     "output_type": "execute_result"
    }
   ],
   "source": [
    "select_num_stocks(n=20)"
   ]
  },
  {
   "cell_type": "markdown",
   "id": "33d6e10c-e21e-4360-b960-c441bfd658b2",
   "metadata": {},
   "source": [
    "## result"
   ]
  },
  {
   "cell_type": "markdown",
   "id": "5bd31730-0c14-460f-8829-5b11051de5fa",
   "metadata": {},
   "source": [
    "### 1.IC"
   ]
  },
  {
   "cell_type": "code",
   "execution_count": 36,
   "id": "5616e810-f349-4218-863d-4dddc9771318",
   "metadata": {
    "tags": []
   },
   "outputs": [],
   "source": [
    "def compute_IC(factor_rank):\n",
    "    IC = (factor_rank.corrwith(ret_rank,axis=1)).dropna()\n",
    "    IC_mean = IC.mean()\n",
    "    IC_std = IC.std()\n",
    "    ICIR = IC_mean / IC_std\n",
    "    ICres = pd.DataFrame([[IC_mean,ICIR]],columns=['ICmean','ICIR'])\n",
    "    return IC,ICres"
   ]
  },
  {
   "cell_type": "code",
   "execution_count": 37,
   "id": "9366ed8e-e8d4-4a9d-8b76-8d8e4425d3f0",
   "metadata": {
    "tags": []
   },
   "outputs": [],
   "source": [
    "IC,ICres = compute_IC(factor_rank)"
   ]
  },
  {
   "cell_type": "markdown",
   "id": "b723103a",
   "metadata": {},
   "source": [
    "#### 波动惩罚滚动ICIR"
   ]
  },
  {
   "cell_type": "code",
   "execution_count": 38,
   "id": "6115e1b9",
   "metadata": {
    "jupyter": {
     "source_hidden": true
    }
   },
   "outputs": [],
   "source": [
    "# ICIR_120_weight = IC.rolling(120).apply(lambda x: x.mean()/x.std()).dropna()\n",
    "# ICIR_120_weight.plot(figsize=(18,9))\n",
    "# plt.show()"
   ]
  },
  {
   "cell_type": "code",
   "execution_count": 39,
   "id": "9cf2fc35",
   "metadata": {},
   "outputs": [],
   "source": [
    "# ICIR_120_weight.to_pickle('D:/redata/icir/adjclose_icir.pkl')"
   ]
  },
  {
   "cell_type": "code",
   "execution_count": 40,
   "id": "ef7e3560-fb73-4431-866c-09dcc20ac001",
   "metadata": {
    "tags": []
   },
   "outputs": [
    {
     "data": {
      "text/plain": [
       "<Axes: title={'center': 'rankIC0.0332 ICIR0.3827'}, xlabel='date'>"
      ]
     },
     "execution_count": 40,
     "metadata": {},
     "output_type": "execute_result"
    },
    {
     "data": {
      "image/png": "[encoded data removed]",
      "text/plain": [
       "<Figure size 640x480 with 1 Axes>"
      ]
     },
     "metadata": {},
     "output_type": "display_data"
    }
   ],
   "source": [
    "ic_title = 'rankIC'+str(round(ICres['ICmean'][0],4))+' ICIR'+str(round(ICres['ICIR'][0],4))\n",
    "IC.cumsum().plot(title=ic_title)"
   ]
  },
  {
   "cell_type": "markdown",
   "id": "3ca0be33",
   "metadata": {},
   "source": [
    "abs(rankIC)>0.05 & ICIR>0.5 为优解"
   ]
  },
  {
   "cell_type": "markdown",
   "id": "c9a92231-7fdf-4d62-89f8-bcba15e4424b",
   "metadata": {},
   "source": [
    "### 2.绝对收益,10层pnl"
   ]
  },
  {
   "cell_type": "code",
   "execution_count": 41,
   "id": "67091b3c-599f-41f5-b3d3-f78e2e0e35cb",
   "metadata": {
    "tags": []
   },
   "outputs": [],
   "source": [
    "def compute_yield(weight_all):###通用的 输入weight计算pnl\n",
    "    intra_return_open = ((adj_close / adj_open  - 1) * (adj_return.notnull() * 1.0).replace(0,np.nan)).replace(np.inf,np.nan).replace(-np.inf,np.nan)\n",
    "    on_return_open = ((adj_return - intra_return_open) * (adj_return.notnull() * 1.0).replace(0,np.nan)).replace(np.inf,np.nan).replace(-np.inf,np.nan)\n",
    "    # on_return_open = (((adj_open/adj_close.shift(1))-1)* (adj_return.notnull() * 1.0).replace(0,np.nan)).replace(np.inf,np.nan).replace(-np.inf,np.nan)\n",
    "    \n",
    "    turnover = (weight_all.replace(np.nan,0) - weight_all.replace(np.nan,0).shift(1)).dropna(how='all',axis=0).abs().sum(axis=1)\n",
    "    n_shift = 1\n",
    "\n",
    "    pnl_intra = ((weight_all).shift(n_shift) * intra_return_open).sum(axis=1)  \n",
    "    pnl_on = ((weight_all).shift(n_shift + 1) * on_return_open).sum(axis=1)\n",
    "\n",
    "    pnl = pnl_intra + pnl_on\n",
    "    tcost =  turnover * 12 /(100*100)\n",
    "    return pnl,tcost,turnover\n",
    "\n",
    "def compute_abs_pnl(factor_rank):###计算分层收益\n",
    "    dailyret = pd.DataFrame()\n",
    "    dailyret_net = pd.DataFrame()\n",
    "    turnover5 = []\n",
    "    IC = []\n",
    "\n",
    "    n_range = 10\n",
    "    for layer in (range(n_range)):  # range(n_range):\n",
    "        layer = layer + 1\n",
    "\n",
    "        if layer == n_range:  # 最后一层，取值是取界限的闭区间\n",
    "            weight1 = factor_rank.ge(factor_rank.max(axis=1) * (1 / n_range) * (layer - 1),axis=0)\n",
    "        else:  # 前面几层都是左闭右开\n",
    "            weight1 = (factor_rank.ge(factor_rank.max(axis=1) * (1 / n_range) * (layer - 1),axis=0)) & (factor_rank.lt(factor_rank.max(axis=1) * (1 / n_range) * (layer),axis=0))\n",
    "\n",
    "        weight_all = (weight1.div(weight1.abs().sum(axis=1), axis=0)).replace(np.nan,0)  # 等权\n",
    "        ####\n",
    "       \n",
    "        pnl,tcost,turnover = compute_yield(weight_all)\n",
    "        \n",
    "        dailyret['dailyret' + str(layer)] = pnl\n",
    "        dailyret_net['dailyret' + str(layer)] = pnl - tcost\n",
    "        turnover5.append(turnover.mean())\n",
    "\n",
    "    # 去掉了因子值的第一天，少了最后一天\n",
    "    start_date = factor_rank.index[1]\n",
    "    end_date = factor_rank.index[-1] \n",
    "    dailyret = dailyret.loc[start_date:end_date]\n",
    "    dailyret_net = dailyret_net.loc[start_date:end_date]\n",
    "    return dailyret,dailyret_net,turnover5"
   ]
  },
  {
   "cell_type": "code",
   "execution_count": 42,
   "id": "186f6946-8b40-49f8-9529-7e81f3969149",
   "metadata": {
    "tags": []
   },
   "outputs": [],
   "source": [
    "dailyret,dailyret_net,turnover5 = compute_abs_pnl(factor_rank) "
   ]
  },
  {
   "cell_type": "code",
   "execution_count": 43,
   "id": "d49e3537-911c-4c8a-86cb-d0c0d0d4e377",
   "metadata": {
    "tags": []
   },
   "outputs": [],
   "source": [
    "def compute_factor_uni_ret():\n",
    "    uni = ~np.isnan(factor_rank)\n",
    "    weight_uni = uni.div(uni.sum(axis=1),axis=0)\n",
    "    factor_uni_ret,_,_ = compute_yield(weight_uni)\n",
    "    return factor_uni_ret\n",
    "\n",
    "#年化收益\n",
    "def evaluation(dailyret):\n",
    "    # SHARP\n",
    "    sharp = np.mean(dailyret, axis=0) / np.std(dailyret, axis=0) * np.sqrt(243)\n",
    "    sharp = pd.DataFrame(sharp).T\n",
    "    sharp.columns = [i.replace('dailyret', 'sharp') for i in sharp.columns]\n",
    "\n",
    "    #年化收益\n",
    "    yearly = dailyret.mean()*243\n",
    "    yearly = pd.DataFrame(yearly).T\n",
    "    yearly.columns = [i.replace('dailyret', 'yearly') for i in yearly.columns]\n",
    "    \n",
    "    # TURNOVER\n",
    "    turnover = pd.DataFrame(turnover5).T\n",
    "    turnover.columns = ['turn' + str(i + 1) for i in turnover.columns]\n",
    "    result = pd.concat([sharp, yearly,turnover], axis=1)\n",
    "    return result.T\n",
    "def excess_evaluation(excess_pnl,excess_net_pnl):\n",
    "    res = evaluation(excess_pnl)\n",
    "    res_net = evaluation(excess_net_pnl)\n",
    "    res_all = pd.concat([res, res_net], axis=1)\n",
    "    res_all.columns = ['res','res_net']\n",
    "    return res_all\n",
    "def pic(pnl,uni):\n",
    "    plt.figure(figsize=(12, 7))\n",
    "    plt.title(factor_name+uni, color='blue')\n",
    "    plt.plot(pnl.index, pnl['dailyret1'].cumsum(), color='r', linestyle='-')\n",
    "    plt.plot(pnl.index, pnl['dailyret2'].cumsum(), color='y', linestyle='-')\n",
    "    plt.plot(pnl.index, pnl['dailyret3'].cumsum(), color='b', linestyle='-')\n",
    "    plt.plot(pnl.index, pnl['dailyret4'].cumsum(), color='g', linestyle='-')\n",
    "    plt.plot(pnl.index, pnl['dailyret5'].cumsum(), color='k', linestyle='-')\n",
    "    plt.plot(pnl.index, pnl['dailyret6'].cumsum(), color='r', linestyle='--')\n",
    "    plt.plot(pnl.index, pnl['dailyret7'].cumsum(), color='y', linestyle='--')\n",
    "    plt.plot(pnl.index, pnl['dailyret8'].cumsum(), color='b', linestyle='--')\n",
    "    plt.plot(pnl.index, pnl['dailyret9'].cumsum(), color='g', linestyle='--')\n",
    "    plt.plot(pnl.index, pnl['dailyret10'].cumsum(), color='k', linestyle='--')\n",
    "    plt.grid()\n",
    "    #plt.savefig(os.path.join(save_path,'pic',factor_name+uni+'.png'))\n",
    "def output_res(res_all,layer):\n",
    "    res_sharp = (res_all.head(layer)).reset_index(drop=True)\n",
    "    res_sharp.columns = ['sharp','sharp_net']\n",
    "    res_ret = (res_all.head(int(layer*2)).tail(layer)).reset_index(drop=True)\n",
    "    res_ret.columns = ['return','return_net']\n",
    "    res_turnover = (res_all.tail(layer)).reset_index(drop=True)\n",
    "    res_turnover = res_turnover[['res']].rename(columns={'res':'turnover'})\n",
    "    res_all = pd.concat([res_sharp,res_ret,res_turnover],axis=1)\n",
    "    res_all = res_all.reset_index()\n",
    "    res_all['index'] = res_all['index']+1\n",
    "    res_all = res_all.set_index(['index'])\n",
    "    res_all = res_all[['sharp', 'return', 'sharp_net', 'return_net', 'turnover']]\n",
    "    return res_all"
   ]
  },
  {
   "cell_type": "markdown",
   "id": "80be0006-68d4-416c-bcdd-99cdc2fa1d7b",
   "metadata": {},
   "source": [
    "### 3.根据universe算超额收益(相对csi500和股票池),超额收益pnl的评估结果，pic 分层收益图"
   ]
  },
  {
   "cell_type": "markdown",
   "id": "ee0ba186-99c3-4646-bef5-ba64ebe68812",
   "metadata": {},
   "source": [
    "#### 相对csi500的超额收益"
   ]
  },
  {
   "cell_type": "code",
   "execution_count": 44,
   "id": "6afbf139-9fae-4984-ad70-2d67d12316e3",
   "metadata": {
    "tags": []
   },
   "outputs": [],
   "source": [
    "# ##相对csi500的超额收益\n",
    "# benchmark = 'csi500'\n",
    "# ##compute\n",
    "# excess_pnl = dailyret.sub(idx_500_ret,axis=0)#.dropna(how='all',axis=0)\n",
    "# excess_net_pnl = dailyret_net.sub(idx_500_ret,axis=0)#.dropna(how='all',axis=0)\n",
    "# res_all = excess_evaluation(excess_pnl,excess_net_pnl)\n",
    "# output_res(res_all,layer = 10)"
   ]
  },
  {
   "cell_type": "code",
   "execution_count": 45,
   "id": "7bf47672",
   "metadata": {},
   "outputs": [],
   "source": [
    "# excess_pnl.loc[:].cumsum().plot(figsize=(12,8),grid=True,title='csi500_pnl')"
   ]
  },
  {
   "cell_type": "markdown",
   "id": "344e94f3-4e43-4541-98a1-7a67eb7574cd",
   "metadata": {},
   "source": [
    "#### 相对股票池组合的超额收益"
   ]
  },
  {
   "cell_type": "code",
   "execution_count": 46,
   "id": "6257b285-fd6c-4644-ba49-0a7888f32396",
   "metadata": {
    "tags": []
   },
   "outputs": [],
   "source": [
    "benchmark = 'factor_uni'\n",
    "factor_uni_ret = compute_factor_uni_ret() ###股票池的dailypnl 作为benchmark\n",
    "##compute\n",
    "excess_pnl = dailyret.sub(factor_uni_ret,axis=0)\n",
    "excess_net_pnl = dailyret_net.sub(factor_uni_ret,axis=0)\n",
    "res_all = excess_evaluation(excess_pnl,excess_net_pnl)"
   ]
  },
  {
   "cell_type": "code",
   "execution_count": 47,
   "id": "8c661c04-ef3a-444e-9e01-366b0866fbcf",
   "metadata": {
    "tags": []
   },
   "outputs": [
    {
     "data": {
      "text/html": [
       "<div>\n",
       "<style scoped>\n",
       "    .dataframe tbody tr th:only-of-type {\n",
       "        vertical-align: middle;\n",
       "    }\n",
       "\n",
       "    .dataframe tbody tr th {\n",
       "        vertical-align: top;\n",
       "    }\n",
       "\n",
       "    .dataframe thead th {\n",
       "        text-align: right;\n",
       "    }\n",
       "</style>\n",
       "<table border=\"1\" class=\"dataframe\">\n",
       "  <thead>\n",
       "    <tr style=\"text-align: right;\">\n",
       "      <th></th>\n",
       "      <th>sharp</th>\n",
       "      <th>return</th>\n",
       "      <th>sharp_net</th>\n",
       "      <th>return_net</th>\n",
       "      <th>turnover</th>\n",
       "    </tr>\n",
       "    <tr>\n",
       "      <th>index</th>\n",
       "      <th></th>\n",
       "      <th></th>\n",
       "      <th></th>\n",
       "      <th></th>\n",
       "      <th></th>\n",
       "    </tr>\n",
       "  </thead>\n",
       "  <tbody>\n",
       "    <tr>\n",
       "      <th>1</th>\n",
       "      <td>-2.730563</td>\n",
       "      <td>-0.194220</td>\n",
       "      <td>-3.183675</td>\n",
       "      <td>-0.226475</td>\n",
       "      <td>0.110613</td>\n",
       "    </tr>\n",
       "    <tr>\n",
       "      <th>2</th>\n",
       "      <td>-0.706793</td>\n",
       "      <td>-0.029696</td>\n",
       "      <td>-2.367258</td>\n",
       "      <td>-0.099506</td>\n",
       "      <td>0.239403</td>\n",
       "    </tr>\n",
       "    <tr>\n",
       "      <th>3</th>\n",
       "      <td>-0.189167</td>\n",
       "      <td>-0.006130</td>\n",
       "      <td>-3.062024</td>\n",
       "      <td>-0.099105</td>\n",
       "      <td>0.318843</td>\n",
       "    </tr>\n",
       "    <tr>\n",
       "      <th>4</th>\n",
       "      <td>-0.401268</td>\n",
       "      <td>-0.010857</td>\n",
       "      <td>-4.465687</td>\n",
       "      <td>-0.120743</td>\n",
       "      <td>0.376837</td>\n",
       "    </tr>\n",
       "    <tr>\n",
       "      <th>5</th>\n",
       "      <td>0.295481</td>\n",
       "      <td>0.007043</td>\n",
       "      <td>-4.798441</td>\n",
       "      <td>-0.114029</td>\n",
       "      <td>0.415197</td>\n",
       "    </tr>\n",
       "    <tr>\n",
       "      <th>6</th>\n",
       "      <td>1.031955</td>\n",
       "      <td>0.023733</td>\n",
       "      <td>-4.491488</td>\n",
       "      <td>-0.103093</td>\n",
       "      <td>0.434932</td>\n",
       "    </tr>\n",
       "    <tr>\n",
       "      <th>7</th>\n",
       "      <td>1.355982</td>\n",
       "      <td>0.035636</td>\n",
       "      <td>-3.475340</td>\n",
       "      <td>-0.090904</td>\n",
       "      <td>0.433952</td>\n",
       "    </tr>\n",
       "    <tr>\n",
       "      <th>8</th>\n",
       "      <td>1.426606</td>\n",
       "      <td>0.046137</td>\n",
       "      <td>-2.243289</td>\n",
       "      <td>-0.072244</td>\n",
       "      <td>0.405969</td>\n",
       "    </tr>\n",
       "    <tr>\n",
       "      <th>9</th>\n",
       "      <td>1.588154</td>\n",
       "      <td>0.066055</td>\n",
       "      <td>-0.762231</td>\n",
       "      <td>-0.031623</td>\n",
       "      <td>0.334970</td>\n",
       "    </tr>\n",
       "    <tr>\n",
       "      <th>10</th>\n",
       "      <td>1.025456</td>\n",
       "      <td>0.061882</td>\n",
       "      <td>0.286193</td>\n",
       "      <td>0.017264</td>\n",
       "      <td>0.153011</td>\n",
       "    </tr>\n",
       "  </tbody>\n",
       "</table>\n",
       "</div>"
      ],
      "text/plain": [
       "          sharp    return  sharp_net  return_net  turnover\n",
       "index                                                     \n",
       "1     -2.730563 -0.194220  -3.183675   -0.226475  0.110613\n",
       "2     -0.706793 -0.029696  -2.367258   -0.099506  0.239403\n",
       "3     -0.189167 -0.006130  -3.062024   -0.099105  0.318843\n",
       "4     -0.401268 -0.010857  -4.465687   -0.120743  0.376837\n",
       "5      0.295481  0.007043  -4.798441   -0.114029  0.415197\n",
       "6      1.031955  0.023733  -4.491488   -0.103093  0.434932\n",
       "7      1.355982  0.035636  -3.475340   -0.090904  0.433952\n",
       "8      1.426606  0.046137  -2.243289   -0.072244  0.405969\n",
       "9      1.588154  0.066055  -0.762231   -0.031623  0.334970\n",
       "10     1.025456  0.061882   0.286193    0.017264  0.153011"
      ]
     },
     "execution_count": 47,
     "metadata": {},
     "output_type": "execute_result"
    }
   ],
   "source": [
    "output_res(res_all,layer = 10)"
   ]
  },
  {
   "cell_type": "code",
   "execution_count": 48,
   "id": "8ef76802-8052-4f18-98c9-0e23b53ea61f",
   "metadata": {
    "tags": []
   },
   "outputs": [
    {
     "data": {
      "text/plain": [
       "<Axes: title={'center': 'alluni_pnl'}, xlabel='date'>"
      ]
     },
     "execution_count": 48,
     "metadata": {},
     "output_type": "execute_result"
    },
    {
     "data": {
      "image/png": "[encoded data removed]",
      "text/plain": [
       "<Figure size 1200x800 with 1 Axes>"
      ]
     },
     "metadata": {},
     "output_type": "display_data"
    }
   ],
   "source": [
    "excess_pnl.loc[:].cumsum().plot(figsize=(12,8),grid=True,title='alluni_pnl')"
   ]
  },
  {
   "cell_type": "markdown",
   "id": "8f3f3f16-cbbc-4912-b9ed-0727bf856647",
   "metadata": {},
   "source": [
    "### 4.单独看top10%组合，超额收益，以及每年表现"
   ]
  },
  {
   "cell_type": "code",
   "execution_count": 49,
   "id": "98cf7b5c-9913-4f67-b1e3-522ab75abbfb",
   "metadata": {
    "tags": []
   },
   "outputs": [],
   "source": [
    "###top100， evalu\n",
    "def comp_evaluation(pnl100_2):\n",
    "    res = []\n",
    "    year_ls = list(pd.DataFrame(pnl100_2.index)['date'].dt.year.unique())\n",
    "    year_ls = [str(i) for i in year_ls]\n",
    "    for year in year_ls:\n",
    "        year_pnl100 = pnl100_2.loc[year]\n",
    "        sharp = np.mean(year_pnl100) * np.sqrt(243) / np.std(year_pnl100)\n",
    "\n",
    "        year_pnl100 = pnl100_2.loc[year]\n",
    "        sumpnl = year_pnl100.sum()\n",
    "        res.append(pd.DataFrame([[sharp.values[0],sumpnl.values[0]]],columns=['sharp', 'ret']))\n",
    "\n",
    "    y = pd.concat(res)\n",
    "    y.index = year_ls\n",
    "\n",
    "    pnl100res_sum_sharp = pd.DataFrame((np.mean(pnl100_2) * np.sqrt(243)) / np.std(pnl100_2)).T\n",
    "    pnl100res_sum_yearlymean = pd.DataFrame(pnl100_2.mean()*243).T\n",
    "\n",
    "\n",
    "    y1 = pd.concat([pnl100res_sum_sharp,pnl100res_sum_yearlymean],axis=1)\n",
    "    y1.columns = ['sharp', 'ret']\n",
    "    y1.index = ['Yearly']\n",
    "\n",
    "    y = pd.concat([y,y1])\n",
    "    return y"
   ]
  },
  {
   "cell_type": "code",
   "execution_count": 52,
   "id": "5a3cc404-549e-4328-bb71-66016877ac57",
   "metadata": {
    "tags": []
   },
   "outputs": [],
   "source": [
    "def top10_comp(df):\n",
    "    #top10%\n",
    "    w = df.ge(df.max(axis=1) * args_quantile,axis=0) #top10\n",
    "    #bottom 10%\n",
    "    #w = df.le(df.max(axis=1) * args_quantile,axis=0)\n",
    "    w100 =  (w.div(w.abs().sum(axis=1), axis=0)).replace(np.nan,0)#等权\n",
    "    #w = (w*df).replace(0,np.nan).loc['2017-01-01':'2023-04-04']\n",
    "    pnl,tcost,turnover100 = compute_yield(w100)\n",
    "    pnl100 = pd.concat([pnl,pnl-tcost],axis=1).dropna()\n",
    "    pnl100.columns = ['pnl','netpnl']\n",
    "    #top100 超额dailypnl\n",
    "    pnl100['excesspnl_csi500'] = pnl100['pnl'].sub(idx_500_ret,axis=0)\n",
    "    pnl100['excessnetpnl_csi500'] = pnl100['netpnl'].sub(idx_500_ret,axis=0)\n",
    "    pnl100['excesspnl_all'] = pnl100['pnl'].sub(factor_uni_ret,axis=0)\n",
    "    pnl100['excessnetpnl_all'] = pnl100['netpnl'].sub(factor_uni_ret,axis=0)\n",
    "    return pnl100,turnover100"
   ]
  },
  {
   "cell_type": "code",
   "execution_count": 53,
   "id": "0ca3e966-0c36-4992-99b8-ab4fd4577d42",
   "metadata": {
    "tags": []
   },
   "outputs": [
    {
     "ename": "NameError",
     "evalue": "name 'turnover' is not defined",
     "output_type": "error",
     "traceback": [
      "\u001b[1;31m---------------------------------------------------------------------------\u001b[0m",
      "\u001b[1;31mNameError\u001b[0m                                 Traceback (most recent call last)",
      "Cell \u001b[1;32mIn[53], line 1\u001b[0m\n\u001b[1;32m----> 1\u001b[0m \u001b[43mturnover\u001b[49m\u001b[38;5;241m.\u001b[39mmean()\n",
      "\u001b[1;31mNameError\u001b[0m: name 'turnover' is not defined"
     ]
    }
   ],
   "source": [
    "turnover.mean()"
   ]
  },
  {
   "cell_type": "code",
   "execution_count": null,
   "id": "1257a41f-778f-40cf-8186-efb72fbe34b9",
   "metadata": {
    "tags": []
   },
   "outputs": [],
   "source": [
    "##结果，相对csi500"
   ]
  },
  {
   "cell_type": "code",
   "execution_count": 51,
   "id": "0124be60-a3af-43e2-b3d8-431e836220b4",
   "metadata": {
    "scrolled": true,
    "tags": []
   },
   "outputs": [
    {
     "ename": "NameError",
     "evalue": "name 'pnl100_hist' is not defined",
     "output_type": "error",
     "traceback": [
      "\u001b[1;31m---------------------------------------------------------------------------\u001b[0m",
      "\u001b[1;31mNameError\u001b[0m                                 Traceback (most recent call last)",
      "Cell \u001b[1;32mIn[51], line 3\u001b[0m\n\u001b[0;32m      1\u001b[0m \u001b[38;5;66;03m#因子原值\u001b[39;00m\n\u001b[0;32m      2\u001b[0m pnl_tp \u001b[38;5;241m=\u001b[39m \u001b[38;5;124m'\u001b[39m\u001b[38;5;124mexcesspnl_csi500\u001b[39m\u001b[38;5;124m'\u001b[39m\n\u001b[1;32m----> 3\u001b[0m pnl100_2 \u001b[38;5;241m=\u001b[39m \u001b[43mpnl100_hist\u001b[49m[[pnl_tp]]\n\u001b[0;32m      4\u001b[0m y1 \u001b[38;5;241m=\u001b[39m comp_evaluation(pnl100_2)\n\u001b[0;32m      5\u001b[0m \u001b[38;5;66;03m#因子原值\u001b[39;00m\n",
      "\u001b[1;31mNameError\u001b[0m: name 'pnl100_hist' is not defined"
     ]
    }
   ],
   "source": [
    "#因子原值\n",
    "pnl_tp = 'excesspnl_csi500'\n",
    "pnl100_2 = pnl100_hist[[pnl_tp]]\n",
    "y1 = comp_evaluation(pnl100_2)\n",
    "#因子原值\n",
    "pnl_tp = 'excessnetpnl_csi500'\n",
    "pnl100_2 = pnl100_hist[[pnl_tp]]\n",
    "y2 = comp_evaluation(pnl100_2)\n",
    "y2.columns = ['sharp_net','ret_net']"
   ]
  },
  {
   "cell_type": "code",
   "execution_count": null,
   "id": "0b22dfaa-e574-4189-bfe1-8e40ebecacf5",
   "metadata": {
    "tags": []
   },
   "outputs": [],
   "source": [
    "# pd.concat([y1.T,y2.T])"
   ]
  },
  {
   "cell_type": "code",
   "execution_count": null,
   "id": "1d3af0dd-3933-4855-a616-f44814e4646c",
   "metadata": {
    "tags": []
   },
   "outputs": [],
   "source": [
    "# pd.concat([pnl100_hist['excesspnl_csi500'].loc[:].rename('pnl').cumsum(),pnl100_hist['excessnetpnl_csi500'].loc[:].rename('netpnl').cumsum()],axis=1).plot()"
   ]
  },
  {
   "cell_type": "code",
   "execution_count": null,
   "id": "18547d16-f058-454b-8c77-37e34b943fe2",
   "metadata": {
    "tags": []
   },
   "outputs": [],
   "source": [
    "##结果，相对整个股票池"
   ]
  },
  {
   "cell_type": "code",
   "execution_count": null,
   "id": "fb5063cd-0b98-4ef1-9814-a4c8207660b9",
   "metadata": {
    "tags": []
   },
   "outputs": [],
   "source": [
    "factor_uni_ret = compute_factor_uni_ret() ###股票池的dailypnl 作为benchmark"
   ]
  },
  {
   "cell_type": "code",
   "execution_count": null,
   "id": "d430b1d1-153d-4f98-b6db-5a04f9c09991",
   "metadata": {
    "tags": []
   },
   "outputs": [],
   "source": [
    "#因子原值\n",
    "pnl_tp = 'excesspnl_all'\n",
    "pnl100_2 = pnl100_hist[[pnl_tp]]\n",
    "y1 = comp_evaluation(pnl100_2)\n",
    "#因子原值\n",
    "pnl_tp = 'excessnetpnl_all'\n",
    "pnl100_2 = pnl100_hist[[pnl_tp]]\n",
    "y2 = comp_evaluation(pnl100_2)\n",
    "y2.columns = ['sharp_net','ret_net']"
   ]
  },
  {
   "cell_type": "code",
   "execution_count": null,
   "id": "1913d34c-020f-40d7-bf47-5afa470b213d",
   "metadata": {},
   "outputs": [],
   "source": [
    "y1"
   ]
  },
  {
   "cell_type": "code",
   "execution_count": null,
   "id": "9b9f93ba-b673-45b7-be6a-0c6f66490832",
   "metadata": {
    "tags": []
   },
   "outputs": [],
   "source": [
    "pd.concat([y1.T,y2.T])"
   ]
  },
  {
   "cell_type": "code",
   "execution_count": null,
   "id": "39b6a85d-9027-420c-82cc-4b8f4e81bf60",
   "metadata": {
    "tags": []
   },
   "outputs": [],
   "source": [
    "pd.concat([pnl100_hist['excesspnl_all'].loc[:].rename('pnl').cumsum(),pnl100_hist['excessnetpnl_all'].loc[:].rename('netpnl').cumsum()],axis=1).plot(grid=True,title='alluni_top10%')"
   ]
  },
  {
   "cell_type": "code",
   "execution_count": null,
   "id": "a8c10a44-4388-4d3d-b243-ce7cac3822a4",
   "metadata": {},
   "outputs": [],
   "source": []
  },
  {
   "cell_type": "code",
   "execution_count": null,
   "id": "6e97f036-79d2-431d-bfe3-59f8c742a8c2",
   "metadata": {},
   "outputs": [],
   "source": []
  },
  {
   "cell_type": "code",
   "execution_count": null,
   "id": "4351ec97-5551-4e83-b47d-d5a34d11df26",
   "metadata": {},
   "outputs": [],
   "source": []
  },
  {
   "cell_type": "code",
   "execution_count": null,
   "id": "bcfaa225-d519-4169-a05a-5d8698c431e6",
   "metadata": {},
   "outputs": [],
   "source": []
  },
  {
   "cell_type": "markdown",
   "id": "a38adfac-9e9c-49d2-aeed-cb2700208269",
   "metadata": {},
   "source": [
    "# "
   ]
  },
  {
   "cell_type": "code",
   "execution_count": null,
   "id": "e46367a1",
   "metadata": {},
   "outputs": [],
   "source": []
  },
  {
   "cell_type": "code",
   "execution_count": null,
   "id": "fca2df42",
   "metadata": {},
   "outputs": [],
   "source": []
  },
  {
   "cell_type": "code",
   "execution_count": null,
   "id": "d9defe56",
   "metadata": {},
   "outputs": [],
   "source": []
  },
  {
   "cell_type": "code",
   "execution_count": null,
   "id": "523d54cd",
   "metadata": {},
   "outputs": [],
   "source": []
  },
  {
   "cell_type": "code",
   "execution_count": null,
   "id": "e2e8ba39",
   "metadata": {},
   "outputs": [],
   "source": []
  },
  {
   "cell_type": "code",
   "execution_count": null,
   "id": "c66bb0a3",
   "metadata": {},
   "outputs": [],
   "source": []
  },
  {
   "cell_type": "code",
   "execution_count": null,
   "id": "8ffd86fe",
   "metadata": {},
   "outputs": [],
   "source": []
  },
  {
   "cell_type": "code",
   "execution_count": null,
   "id": "6d5f5221",
   "metadata": {},
   "outputs": [],
   "source": []
  },
  {
   "cell_type": "code",
   "execution_count": null,
   "id": "3f64fc48",
   "metadata": {},
   "outputs": [],
   "source": []
  },
  {
   "cell_type": "code",
   "execution_count": null,
   "id": "34786ab8",
   "metadata": {},
   "outputs": [],
   "source": []
  },
  {
   "cell_type": "code",
   "execution_count": null,
   "id": "8f44b516",
   "metadata": {},
   "outputs": [],
   "source": []
  },
  {
   "cell_type": "code",
   "execution_count": null,
   "id": "0b3b2445",
   "metadata": {},
   "outputs": [],
   "source": []
  },
  {
   "cell_type": "code",
   "execution_count": null,
   "id": "8d0daf2e",
   "metadata": {},
   "outputs": [],
   "source": []
  },
  {
   "cell_type": "code",
   "execution_count": null,
   "id": "f7fb09fe",
   "metadata": {},
   "outputs": [],
   "source": []
  },
  {
   "cell_type": "code",
   "execution_count": null,
   "id": "49a66767",
   "metadata": {},
   "outputs": [],
   "source": []
  },
  {
   "cell_type": "code",
   "execution_count": null,
   "id": "a7151c18",
   "metadata": {},
   "outputs": [],
   "source": []
  },
  {
   "cell_type": "code",
   "execution_count": null,
   "id": "e0122c71",
   "metadata": {},
   "outputs": [],
   "source": []
  },
  {
   "cell_type": "code",
   "execution_count": null,
   "id": "7ec0c276",
   "metadata": {},
   "outputs": [],
   "source": []
  },
  {
   "cell_type": "code",
   "execution_count": null,
   "id": "7aefa9b6",
   "metadata": {},
   "outputs": [],
   "source": []
  },
  {
   "cell_type": "code",
   "execution_count": null,
   "id": "2ed6f61a",
   "metadata": {},
   "outputs": [],
   "source": []
  },
  {
   "cell_type": "code",
   "execution_count": null,
   "id": "34a0745e",
   "metadata": {},
   "outputs": [],
   "source": []
  },
  {
   "cell_type": "code",
   "execution_count": null,
   "id": "a45aedf2",
   "metadata": {},
   "outputs": [],
   "source": []
  },
  {
   "cell_type": "code",
   "execution_count": null,
   "id": "7aad659d",
   "metadata": {},
   "outputs": [],
   "source": []
  },
  {
   "cell_type": "code",
   "execution_count": null,
   "id": "0849061f",
   "metadata": {},
   "outputs": [],
   "source": []
  }
 ],
 "metadata": {
  "kernelspec": {
   "display_name": "Python 3 (ipykernel)",
   "language": "python",
   "name": "python3"
  },
  "language_info": {
   "codemirror_mode": {
    "name": "ipython",
    "version": 3
   },
   "file_extension": ".py",
   "mimetype": "text/x-python",
   "name": "python",
   "nbconvert_exporter": "python",
   "pygments_lexer": "ipython3",
   "version": "3.10.14"
  }
 },
 "nbformat": 4,
 "nbformat_minor": 5
}
