{
 "cells": [
  {
   "cell_type": "markdown",
   "id": "23c3b5f6-eddc-453b-b115-bd736f0c03c4",
   "metadata": {},
   "source": [
    "# 1.0 模块加载"
   ]
  },
  {
   "cell_type": "code",
   "execution_count": 18,
   "id": "badabc12-bed9-4e37-ae87-6e6e9b5f9df4",
   "metadata": {
    "jupyter": {
     "source_hidden": true
    }
   },
   "outputs": [],
   "source": [
    "import import_ipynb\n",
    "import oss2\n",
    "from setting import SETTINGS\n",
    "import pickle\n",
    "import pandas as pd\n",
    "import os\n",
    "import io\n",
    "from dateutil import parser\n",
    "import datetime\n",
    "import pandas as pd\n",
    "from fastparquet import write\n",
    "from pathlib import  Path\n",
    "from oss_handler import OssClient\n",
    "import sys, os\n",
    "import numpy as np\n",
    "from tqdm import tqdm\n",
    "from matplotlib import pyplot as plt\n",
    "from pylab import mpl\n",
    "import seaborn as sns\n",
    "from sklearn.linear_model import LinearRegression\n",
    "import datetime\n",
    "from datetime import datetime, timedelta\n",
    "from oss2.exceptions import NoSuchKey\n",
    "import warnings\n",
    "\n",
    "warnings.filterwarnings('ignore')\n",
    "\n",
    "AccessKeyId = SETTINGS[\"oss.accesskey\"]\n",
    "AccessKeySecret = SETTINGS[\"oss.secret\"]\n",
    "BucketName = SETTINGS[\"oss.bucketname\"]\n",
    "Endpoint = SETTINGS[\"oss.endpoint\"]\n",
    "\n",
    "\n",
    "class newBytes(io.BytesIO):\n",
    "    def close(self):\n",
    "        pass\n",
    "\n",
    "\n",
    "class OssClient(object):\n",
    "    __instance = None\n",
    "    __first_init = False\n",
    "\n",
    "    # 单例模式\n",
    "    def __new__(cls, *args, **kwargs):\n",
    "        if not cls.__instance:\n",
    "            cls.__instance = super().__new__(cls)\n",
    "        return cls.__instance\n",
    "\n",
    "    def __init__(self):\n",
    "        cls = self.__class__\n",
    "        if not cls.__first_init:\n",
    "            self.auth = oss2.Auth(AccessKeyId, AccessKeySecret)\n",
    "            self.bucket = oss2.Bucket(self.auth, Endpoint, BucketName)\n",
    "            cls.__first_init = True\n",
    "\n",
    "\n",
    "    def upload_file_from_fileobj(self, object_name, local_file_path):\n",
    "        \"\"\"\n",
    "            upload_file_from_fileobj方法：上传文件对象到oss存储空间, 该方法可用于我们从上游服务接收了图片参数，然后以二进制形式读文件，上传到oss存储空间指定位置（abc/efg/00），\n",
    "        当然也可以将本地文件上传到oss我们的bucket. 其中fileobj不止可以是文件对象，也可以是本地文件路径。 put_object方法底层仍是RESTful API的调用，可以指定headers，规定Content-Type等内容\n",
    "        \"\"\"\n",
    "        # 判断bucket中文件是否存在，也可以不判断，会上传更新\n",
    "        #exist = self.bucket.object_exists(object_name) #<yourObjectName>\n",
    "        #if exist:\n",
    "        #    return True\n",
    "        with open(local_file_path, 'rb') as fileobj:\n",
    "            result = self.bucket.put_object(object_name, fileobj) #<yourObjectName>\n",
    "        if result.status == 200:\n",
    "            return True\n",
    "        else:\n",
    "            return False\n",
    "\n",
    "    def upload_pickle_data(self,df, target_path, *args, report_date=None):\n",
    "        if isinstance(report_date, datetime.date):\n",
    "            d = report_date.strftime(\"%Y-%m-%d\")\n",
    "        if isinstance(report_date, str):\n",
    "            d = parser.parse(report_date).strftime(\"%Y-%m-%d\")\n",
    "        if args:\n",
    "            d = [arg for arg in args][0]\n",
    "        pickle_buffer = io.BytesIO()\n",
    "        pickle.dump(df, pickle_buffer)\n",
    "        target_file_key = os.path.join(target_path, '{}.pkl'.format(d)).replace(\"\\\\\",\"/\")\n",
    "        result = self.bucket.put_object(target_file_key, pickle_buffer.getvalue())\n",
    "        if result.status == 200:\n",
    "            return True\n",
    "        else:\n",
    "            return False\n",
    "\n",
    "\n",
    "    def list_files(self,prefix = None):\n",
    "        res = []\n",
    "        for object_info in oss2.ObjectIterator(self.bucket,prefix):\n",
    "            print(object_info.key)\n",
    "            res.append(object_info.key)\n",
    "        return res\n",
    "\n",
    "    def upload_parquet_data(self,df, target_path, *args, report_date=None):\n",
    "        if isinstance(report_date, datetime.date):\n",
    "            d = report_date.strftime(\"%Y-%m-%d\")\n",
    "        if isinstance(report_date, str):\n",
    "            d = parser.parse(report_date).strftime(\"%Y-%m-%d\")\n",
    "        if args:\n",
    "            d = [arg for arg in args][0]\n",
    "        target_file_key = os.path.join(target_path, '{}.parquet'.format(d)).replace(\"\\\\\",\"/\")\n",
    "        mem_buffer = newBytes()\n",
    "        df.to_parquet('noname', engine='fastparquet', open_with=lambda x, y: mem_buffer)\n",
    "        result = self.bucket.put_object(target_file_key, mem_buffer.getvalue())\n",
    "        #f = Path(os.getcwd())/'tmp.parquet'\n",
    "        #write(f, df)\n",
    "        #with open(f, 'rb') as fileobj:\n",
    "        #    result = self.bucket.put_object(target_file_key, fileobj)\n",
    "        #os.remove(f)\n",
    "        if result.status == 200:\n",
    "            return True\n",
    "        else:\n",
    "            return False\n",
    "\n",
    "    def save_data_to_pickle(self,df, file_dir_path, *args,report_date=None):\n",
    "        if isinstance(report_date, datetime.date):\n",
    "            d = report_date.strftime(\"%Y-%m-%d\")\n",
    "        if isinstance(report_date, str):\n",
    "            d = parser.parse(report_date).strftime(\"%Y-%m-%d\")\n",
    "        if args:\n",
    "            d = [arg for arg in args][0]\n",
    "        target_file_key = os.path.join(file_dir_path, '{}.pkl'.format(d))\n",
    "        with open(target_file_key, 'wb') as f:\n",
    "            pickle.dump(df, f)\n",
    "\n",
    "    def save_data_to_parquet(self,df, file_dir_path, *args,report_date=None):\n",
    "        if isinstance(report_date, datetime.date):\n",
    "            d = report_date.strftime(\"%Y-%m-%d\")\n",
    "        if isinstance(report_date, str):\n",
    "            d = parser.parse(report_date).strftime(\"%Y-%m-%d\")\n",
    "        if args:\n",
    "            d = [arg for arg in args][0]\n",
    "        target_file_key = os.path.join(file_dir_path, f'{d}.parquet')\n",
    "        df.to_parquet(target_file_key)\n",
    "\n",
    "\n",
    "    def read_oss_pickle_file(self,object_name):\n",
    "        \"\"\"\n",
    "            download_file_to_fileobj：下载文件到文件流对象。由于get_object接口返回的是一个stream流，需要执行read()后才能计算出返回Object数据的CRC checksum，因此需要在调用该接口后做CRC校验。\n",
    "        \"\"\"\n",
    "        object_stream = self.bucket.get_object(object_name) #<yourObjectName>\n",
    "        result = object_stream.read()\n",
    "        if object_stream.client_crc != object_stream.server_crc:\n",
    "            print(\"The CRC checksum between client and server is inconsistent!\")\n",
    "            result = None\n",
    "        return pickle.loads(result)\n",
    "\n",
    "    def read_oss_parquet_file(self,object_name):\n",
    "        \"\"\"\n",
    "            download_file_to_fileobj：下载文件到文件流对象。由于get_object接口返回的是一个stream流，需要执行read()后才能计算出返回Object数据的CRC checksum，因此需要在调用该接口后做CRC校验。\n",
    "        \"\"\"\n",
    "        object_stream = self.bucket.get_object(object_name) #<yourObjectName>\n",
    "        result = object_stream.read()\n",
    "        i = io.BytesIO(result)\n",
    "        if object_stream.client_crc != object_stream.server_crc:\n",
    "            print(\"The CRC checksum between client and server is inconsistent!\")\n",
    "            result = None\n",
    "        return pd.read_parquet(i)\n",
    "\n",
    "\n",
    "    def download_file_to_loaclfilepath(self, object_name, local_file_path):\n",
    "        \"\"\"\n",
    "            download_file_to_loaclfilepath：下载文件到本地路径。get_object和get_object_to_file的区别是前者是获取文件流实例，可用于代码处理和远程调用参赛。后者是存储到本地路径，返回的是一个http状态的json结果\n",
    "        \"\"\"\n",
    "        result = self.bucket.get_object_to_file(object_name, local_file_path) # ('<yourObjectName>', '<yourLocalFile>')\n",
    "        if result.status == 200:\n",
    "            return True\n",
    "        else:\n",
    "            return False\n",
    "\n",
    "    def generate_temporary_download_url(self,object_name):\n",
    "        \"\"\"\n",
    "            generate_temporary_download_url: 生成加签的临时URL以供授信用户下载。一般在实际业务中，我们是提供给调用方一个临时下载链接，来让其获取文件数据，而不是直接使用以上暴露AccessKeyId和AccessKeySecret的方法。\n",
    "            因此一般我们会存储某条数据oss的路径（<yourObjectName>）与调用方某个唯一标识的对应关系（如手机号身份证号），在调用方请求时，通过该标识获取其数据的oss文件路径（<yourObjectName>），\n",
    "            然后制定过期时间，为其生成临时下载链接\n",
    "            http://bucketname.oss-ap-south-1.aliyuncs.com/abc/efg/0?OSSAccessKeyId=LTA************oN9&Expires=1604638842&Signature=tPgvWz*************Uk%3D\n",
    "        \"\"\"\n",
    "        res_temporary_url = self.bucket.sign_url('GET', object_name, 60, slash_safe=True)\n",
    "        return res_temporary_url\n",
    "\n",
    "oss_client = OssClient()"
   ]
  },
  {
   "cell_type": "markdown",
   "id": "7609412e-25b4-4ba6-a417-e93142e144ca",
   "metadata": {},
   "source": [
    "# $=========手动输入=========$"
   ]
  },
  {
   "cell_type": "code",
   "execution_count": 1032,
   "id": "a9b793f0-75e8-4224-b89a-202d480c8399",
   "metadata": {},
   "outputs": [],
   "source": [
    "# 选中的股票\n",
    "selected_stocks = [\n",
    "    '300953',\n",
    "    '300611',\n",
    "    '301368',\n",
    "    '001319',\n",
    "    '688306'\n",
    "]\n",
    "\n",
    "# 实际股票数量\n",
    "stock_positions = [\n",
    "    700, \n",
    "    600, \n",
    "    1000, \n",
    "    400, \n",
    "    500\n",
    "]\n",
    "\n",
    "# 总资金\n",
    "total_capital = 1000000"
   ]
  },
  {
   "cell_type": "markdown",
   "id": "b21d3ac5-c3f0-474e-909e-d071b3882b07",
   "metadata": {},
   "source": [
    "# $=========手动输入=========$"
   ]
  },
  {
   "cell_type": "markdown",
   "id": "f20a796a-3d80-480f-990c-aff5a4850a38",
   "metadata": {},
   "source": [
    "# 2.0 数据加载"
   ]
  },
  {
   "cell_type": "code",
   "execution_count": 1033,
   "id": "7a6b52e8-a94a-49d5-8f41-2fdce891eb3f",
   "metadata": {},
   "outputs": [],
   "source": [
    "# 指数数据\n",
    "# idx000001 = oss_client.read_oss_pickle_file('ad_hoc_prod/index_hist/000001.XSHG_hist_index.pkl') #上证指数\n",
    "# idx000016 = oss_client.read_oss_pickle_file('ad_hoc_prod/index_hist/000016.XSHG_hist_index.pkl') #上证 50\n",
    "idx000300 = oss_client.read_oss_pickle_file('ad_hoc_prod/index_hist/000300.XSHG_hist_index.pkl') #沪深 300\n",
    "idx000852 = oss_client.read_oss_pickle_file('ad_hoc_prod/index_hist/000852.XSHG_hist_index.pkl') #中证 1000\n",
    "# idx000905 = oss_client.read_oss_pickle_file('ad_hoc_prod/index_hist/000905.XSHG_hist_index.pkl') #中证 500\n",
    "沪深京全A = oss_client.read_oss_pickle_file('ad_hoc_prod/index_hist/000985.XSHG_hist_index.pkl') #中证全指\n",
    "# idx399001 = oss_client.read_oss_pickle_file('ad_hoc_prod/index_hist/399001.XSHE_hist_index.pkl') #深证成指\n",
    "# idx399006 = oss_client.read_oss_pickle_file('ad_hoc_prod/index_hist/399006.XSHG_hist_index.pkl') #创业板指\n",
    "# idx399303 = oss_client.read_oss_pickle_file('ad_hoc_prod/index_hist/399303.XSHG_hist_index.pkl') #国证 2000\n",
    "\n",
    "# 个股数据\n",
    "adj_close = oss_client.read_oss_pickle_file('ad_hoc_prod/fields_full/adj_close.pk')\n",
    "adj_open = oss_client.read_oss_pickle_file('ad_hoc_prod/fields_full/adj_open.pk')\n",
    "adj_high = oss_client.read_oss_pickle_file('ad_hoc_prod/fields_full/adj_high.pk')\n",
    "adj_low = oss_client.read_oss_pickle_file('ad_hoc_prod/fields_full/adj_low.pk')\n",
    "# Close = oss_client.read_oss_pickle_file('ad_hoc_prod/fields_full/close.pk') \n",
    "# Open = oss_client.read_oss_pickle_file('ad_hoc_prod/fields_full/open.pk') \n",
    "\n",
    "# limit_down = oss_client.read_oss_pickle_file('ad_hoc_prod/fields_full/limit_down.pk') #跌停\n",
    "# limit_up = oss_client.read_oss_pickle_file('ad_hoc_prod/fields_full/limit_up.pk') #涨停\n",
    "\n",
    "# halt_status = oss_client.read_oss_pickle_file('ad_hoc_prod/fields_full/halt_status.pk') #停牌 \n",
    "# st_status = oss_client.read_oss_pickle_file('ad_hoc_prod/fields_full/st_status.pk') #st\n",
    "# st_status = st_status.replace(True,np.nan).replace(False,True)\n",
    "# halt_status = halt_status.replace(True,np.nan).replace(False,True)\n",
    "\n",
    "adj_return =  adj_close/adj_close.shift(1) - 1\n",
    "adj_return = adj_return.replace(np.inf,np.nan).replace(-np.inf,np.nan)\n",
    "adj_return = adj_return[(adj_return.index >= '2017-01-01')]"
   ]
  },
  {
   "cell_type": "markdown",
   "id": "9d8cb7bc-186d-4573-8161-184ce7f5c22d",
   "metadata": {},
   "source": [
    "# 3.0 大盘判断"
   ]
  },
  {
   "cell_type": "markdown",
   "id": "e5c54351-ad5e-4bba-8dd5-6f0e7777c050",
   "metadata": {},
   "source": [
    "## 3.1 主升浪 （80% - 100%仓位）"
   ]
  },
  {
   "cell_type": "markdown",
   "id": "d7dd2766-1bdb-4513-b33c-45cbc5191d9f",
   "metadata": {},
   "source": [
    "### 3.1.1 大盘全指判断"
   ]
  },
  {
   "cell_type": "code",
   "execution_count": 1034,
   "id": "02994168-e92c-4c05-ac49-13f7ac94e70e",
   "metadata": {},
   "outputs": [],
   "source": [
    "#条件一 ： 大于20日平均成交额\n",
    "沪深京全A['成交额2万亿20日mean'] = 沪深京全A['total_turnover'].rolling(20).mean()\n",
    "沪深京全A['成交额大于20日mean'] = np.where(沪深京全A['total_turnover'] >= 沪深京全A['成交额2万亿20日mean'], 1, 0)\n",
    "\n",
    "#条件二 ： 大于2万亿\n",
    "沪深京全A['成交额2万亿'] = np.where(沪深京全A['total_turnover'] >= 2e+12, 1, 0) \n",
    "\n",
    "#判断\n",
    "沪深京全A['全A放量'] = np.where(沪深京全A['成交额大于20日mean'] + 沪深京全A['成交额2万亿'] >= 1, 1, 0)"
   ]
  },
  {
   "cell_type": "markdown",
   "id": "3115f1c7-3358-4944-84c8-b72d894632ce",
   "metadata": {},
   "source": [
    "### 3.1.2 沪深300/中证1000指数判断"
   ]
  },
  {
   "cell_type": "code",
   "execution_count": 1035,
   "id": "c43422da-efb8-45ec-a480-13bb37bfea5e",
   "metadata": {},
   "outputs": [],
   "source": [
    "def ma(index):\n",
    "    index['MA5'] = index['close'].rolling(5).mean()\n",
    "    index['MA10'] = index['close'].rolling(10).mean()\n",
    "    index['MA20'] = index['close'].rolling(20).mean()\n",
    "    return index\n",
    "    \n",
    "idx000300 = ma(idx000300)\n",
    "idx000852 = ma(idx000852)"
   ]
  },
  {
   "cell_type": "markdown",
   "id": "452afc38-9ae5-4c65-80b7-50acc44d6338",
   "metadata": {},
   "source": [
    "#### 3.1.2.1 沪深300"
   ]
  },
  {
   "cell_type": "code",
   "execution_count": 1036,
   "id": "7d8fae3b-6418-417d-a58d-51055effe3f3",
   "metadata": {},
   "outputs": [],
   "source": [
    "#条件一 ： 多头排列\n",
    "idx000300['多头排列'] = np.where(\n",
    "    (idx000300['MA5'] >= idx000300['MA10']) & \n",
    "    (idx000300['MA10'] >= idx000300['MA20']),\n",
    "    1,\n",
    "    0\n",
    ")\n",
    "\n",
    "#条件二 ： 站在5日线以上且5日创新高\n",
    "idx000300['5日线以上'] = np.where(idx000300['close'] >= idx000300['MA5'], 1, 0)\n",
    "\n",
    "idx000300['Rolling_Max_5D'] = idx000300['high'].rolling(window=5).max()\n",
    "idx000300['Is_New_High'] = (idx000300['high'] == idx000300['Rolling_Max_5D']).astype(int)\n",
    "idx000300['连续创新高次数'] = idx000300['Is_New_High'].rolling(window=5).sum()\n",
    "idx000300['连续5日创新高'] = np.where(idx000300['连续创新高次数'] == 5, 1, 0)\n",
    "\n",
    "#判断\n",
    "idx000300['站稳5日线且创新高阶段'] = np.where(idx000300['5日线以上'] + idx000300['连续5日创新高'] >= 1, 1, 0)"
   ]
  },
  {
   "cell_type": "markdown",
   "id": "674060ac-3cc7-41c4-877e-9b02c5b5d7b3",
   "metadata": {},
   "source": [
    "#### 3.1.2.2 中证1000"
   ]
  },
  {
   "cell_type": "code",
   "execution_count": 1037,
   "id": "9501a53b-4a09-45d9-98f0-24cb044f03f9",
   "metadata": {},
   "outputs": [],
   "source": [
    "#中证1000\n",
    "\n",
    "#条件一 ： 多头排列\n",
    "idx000852['多头排列'] = np.where(\n",
    "    (idx000852['MA5'] >= idx000852['MA10']) & \n",
    "    (idx000852['MA10'] >= idx000852['MA20']),\n",
    "    1,\n",
    "    0\n",
    ")\n",
    "\n",
    "#条件二 ： 站在5日线以上且5日创新高\n",
    "idx000852['5日线以上'] = np.where(idx000852['close'] >= idx000852['MA5'], 1, 0)\n",
    "\n",
    "idx000852['Rolling_Max_5D'] = idx000852['high'].rolling(window=5).max()\n",
    "idx000852['Is_New_High'] = (idx000852['high'] == idx000852['Rolling_Max_5D']).astype(int)\n",
    "idx000852['连续创新高次数'] = idx000852['Is_New_High'].rolling(window=5).sum()\n",
    "idx000852['连续5日创新高'] = np.where(idx000852['连续创新高次数'] == 5, 1, 0)\n",
    "\n",
    "#判断\n",
    "idx000852['站稳5日线且创新高阶段'] = np.where(idx000852['5日线以上'] + idx000852['连续5日创新高'] >= 1, 1, 0)"
   ]
  },
  {
   "cell_type": "markdown",
   "id": "32fd0d30-d778-46c4-ae0c-d0580995edf0",
   "metadata": {},
   "source": [
    "### 3.1.2 综合判断，达到1分重仓8成以上"
   ]
  },
  {
   "cell_type": "code",
   "execution_count": 1038,
   "id": "2731ab52-6f3f-488b-8b5b-9b5dea3fb7e5",
   "metadata": {},
   "outputs": [],
   "source": [
    "沪深京全A['沪深300_重仓'] = np.where(沪深京全A['全A放量'] + idx000300['多头排列'] + idx000300['站稳5日线且创新高阶段'] >= 3, 1, 0)\n",
    "沪深京全A['中证1000_重仓'] = np.where(沪深京全A['全A放量'] + idx000852['多头排列'] + idx000852['站稳5日线且创新高阶段'] >= 3, 1, 0)\n",
    "判断_重仓 = 沪深京全A[['date','沪深300_重仓','中证1000_重仓']]"
   ]
  },
  {
   "cell_type": "markdown",
   "id": "8c691b3f-2fef-402a-9838-d8adaad5c3a5",
   "metadata": {},
   "source": [
    "## 3.2 震荡市 （50% - 60%仓位）"
   ]
  },
  {
   "cell_type": "markdown",
   "id": "e9bd5d68-b7e4-4f08-acbe-e5f8b6e8562e",
   "metadata": {},
   "source": [
    "### 3.2.1 大盘全指判断"
   ]
  },
  {
   "cell_type": "code",
   "execution_count": 1039,
   "id": "1e5058fb-b5c7-45ea-9c40-f619255e4457",
   "metadata": {},
   "outputs": [],
   "source": [
    "#条件一 ： 大于1.5万亿\n",
    "沪深京全A['成交额1.5万亿'] = np.where(沪深京全A['total_turnover'] >= 1.5e+12, 1, 0) "
   ]
  },
  {
   "cell_type": "markdown",
   "id": "5557c797-dba2-4e20-b524-17ef3fbbbb76",
   "metadata": {},
   "source": [
    "### 3.2.2 沪深300/中证1000指数震荡判断"
   ]
  },
  {
   "cell_type": "markdown",
   "id": "753f410d-f9bd-4047-9cfc-8100f6307253",
   "metadata": {},
   "source": [
    "#### 3.2.2.1 沪深300"
   ]
  },
  {
   "cell_type": "code",
   "execution_count": 1040,
   "id": "8fb075a8-0256-4308-afd1-85cf0ce7c2b9",
   "metadata": {},
   "outputs": [],
   "source": [
    "#条件一 ： 多头排列\n",
    "idx000852['多头排列']\n",
    "\n",
    "#条件二 ： 站在20日线以上\n",
    "idx000300['20日线以上'] = np.where(idx000300['close'] >= idx000300['MA20'], 1, 0)\n",
    "\n",
    "#判断\n",
    "idx000300['站上20日线且多头排列'] = np.where(idx000300['20日线以上'] + idx000300['多头排列'] >= 2, 1, 0)"
   ]
  },
  {
   "cell_type": "markdown",
   "id": "4204202b-5173-4810-b48c-43728f44d076",
   "metadata": {},
   "source": [
    "#### 3.2.2.2 中证1000"
   ]
  },
  {
   "cell_type": "code",
   "execution_count": 1041,
   "id": "a09f3be8-7365-4a29-ac75-8979054a6262",
   "metadata": {},
   "outputs": [],
   "source": [
    "#条件一 ： 多头排列\n",
    "idx000852['多头排列']\n",
    "\n",
    "#条件二 ： 站在20日线以上\n",
    "idx000852['20日线以上'] = np.where(idx000852['close'] >= idx000852['MA20'], 1, 0)\n",
    "\n",
    "#判断\n",
    "idx000852['站上20日线且多头排列'] = np.where(idx000852['20日线以上'] + idx000852['多头排列'] >= 2, 1, 0)"
   ]
  },
  {
   "cell_type": "markdown",
   "id": "a1674fad-dac9-4201-aa1f-0a673cfc691c",
   "metadata": {},
   "source": [
    "### 3.2.3 综合判断，达到1分半仓"
   ]
  },
  {
   "cell_type": "code",
   "execution_count": 1042,
   "id": "8daf3e1b-c9b4-454a-a1bb-abb4bea2f021",
   "metadata": {},
   "outputs": [],
   "source": [
    "沪深京全A['沪深300_半仓'] = np.where(沪深京全A['成交额1.5万亿'] + idx000300['站上20日线且多头排列'] >= 2, 1, 0)\n",
    "沪深京全A['中证1000_半仓'] = np.where(沪深京全A['成交额1.5万亿'] + idx000852['站上20日线且多头排列'] >= 2, 1, 0)\n",
    "判断_半仓 = 沪深京全A[['date','沪深300_半仓','中证1000_半仓']]"
   ]
  },
  {
   "cell_type": "markdown",
   "id": "5853df4d-f55e-4e40-9fa7-a783ca110108",
   "metadata": {},
   "source": [
    "## 3.3 下跌 （0% - 20%仓位）"
   ]
  },
  {
   "cell_type": "markdown",
   "id": "2ee7add9-367d-4518-92ad-6315dab27b2e",
   "metadata": {},
   "source": [
    "### 3.3.1 沪深300/中证1000下跌判断"
   ]
  },
  {
   "cell_type": "markdown",
   "id": "39f61284-ee46-40a5-b2c6-c93c3e7a48f2",
   "metadata": {},
   "source": [
    "#### 3.3.1.1 沪深300"
   ]
  },
  {
   "cell_type": "code",
   "execution_count": 1043,
   "id": "630c9b55-08d5-4641-ae04-3027af4dbfcd",
   "metadata": {},
   "outputs": [],
   "source": [
    "# 条件一 ：指数在5日线以下\n",
    "idx000300['5日线以下'] = np.where(idx000300['close'] <= idx000300['MA5'], 1, 0)\n",
    "\n",
    "# 条件二 ：5日10日死叉\n",
    "idx000300['5日10日死叉'] = np.where(idx000300['MA5'] <= idx000300['MA10'], 1, 0)\n",
    "\n",
    "# 条件三 ：跌破20日线\n",
    "idx000300['20日线以上'] = np.where(idx000300['close'] >= idx000300['MA20'], 1, 0)\n",
    "\n",
    "#判断\n",
    "idx000300['轻仓判断'] = np.where(idx000300['5日线以下'] + idx000300['5日10日死叉'] + idx000300['20日线以上']>= 3, 1, 0)"
   ]
  },
  {
   "cell_type": "markdown",
   "id": "3e34df4a-f540-48d3-8d40-a19e849f2068",
   "metadata": {},
   "source": [
    "### 3.3.1.2 中证1000"
   ]
  },
  {
   "cell_type": "code",
   "execution_count": 1044,
   "id": "b17eab14-beec-4480-b288-c44317c2d225",
   "metadata": {},
   "outputs": [],
   "source": [
    "# 条件一 ：指数在5日线以下\n",
    "idx000852['5日线以下'] = np.where(idx000852['close'] <= idx000852['MA5'], 1, 0)\n",
    "\n",
    "# 条件二 ：5日10日死叉\n",
    "idx000852['5日10日死叉'] = np.where(idx000852['MA5'] <= idx000852['MA10'], 1, 0)\n",
    "\n",
    "# 条件三 ：站稳20日线\n",
    "idx000852['20日线以上'] = np.where(idx000852['close'] >= idx000852['MA20'], 1, 0)\n",
    "\n",
    "#判断\n",
    "idx000852['轻仓判断'] = np.where(idx000852['5日线以下'] + idx000852['5日10日死叉'] + idx000852['20日线以上']>= 3, 1, 0)"
   ]
  },
  {
   "cell_type": "markdown",
   "id": "bc7a7034-814a-4b4a-892f-3882a88b0bea",
   "metadata": {},
   "source": [
    "## 3.4 沪深300/中证1000空仓判断"
   ]
  },
  {
   "cell_type": "markdown",
   "id": "4055c2ba-67c5-4b01-85e9-6be37b273ddf",
   "metadata": {},
   "source": [
    "### 3.4.1 沪深300"
   ]
  },
  {
   "cell_type": "code",
   "execution_count": 1045,
   "id": "22f4e4f4-498f-42ea-9e4b-a93b839bdb04",
   "metadata": {},
   "outputs": [],
   "source": [
    "# 条件一 ：跌破20日线\n",
    "idx000300['跌破20日线'] = np.where(idx000300['close'] < idx000300['MA20'], 1, 0)"
   ]
  },
  {
   "cell_type": "markdown",
   "id": "0cb5253d-7416-435e-9b20-4aadfae98391",
   "metadata": {},
   "source": [
    "### 3.4.2 中证1000"
   ]
  },
  {
   "cell_type": "code",
   "execution_count": 1046,
   "id": "fe7b8b2b-bc72-43d8-8456-3df9f90b6ec2",
   "metadata": {},
   "outputs": [],
   "source": [
    "# 条件一 ：跌破20日线\n",
    "idx000852['跌破20日线'] = np.where(idx000852['close'] < idx000852['MA20'], 1, 0)"
   ]
  },
  {
   "cell_type": "markdown",
   "id": "7e6d0a9a-9be7-4bd3-8e07-19d538597c4e",
   "metadata": {},
   "source": [
    "### 3.4.3 综合判断，达到清仓空仓"
   ]
  },
  {
   "cell_type": "code",
   "execution_count": 1047,
   "id": "5659e5c8-293f-45db-8577-cbce766f74bc",
   "metadata": {},
   "outputs": [
    {
     "data": {
      "text/html": [
       "<div>\n",
       "<style scoped>\n",
       "    .dataframe tbody tr th:only-of-type {\n",
       "        vertical-align: middle;\n",
       "    }\n",
       "\n",
       "    .dataframe tbody tr th {\n",
       "        vertical-align: top;\n",
       "    }\n",
       "\n",
       "    .dataframe thead th {\n",
       "        text-align: right;\n",
       "    }\n",
       "</style>\n",
       "<table border=\"1\" class=\"dataframe\">\n",
       "  <thead>\n",
       "    <tr style=\"text-align: right;\">\n",
       "      <th></th>\n",
       "      <th>date</th>\n",
       "      <th>沪深300_轻仓</th>\n",
       "      <th>中证1000_轻仓</th>\n",
       "      <th>沪深300_空仓</th>\n",
       "      <th>中证1000_空仓</th>\n",
       "    </tr>\n",
       "  </thead>\n",
       "  <tbody>\n",
       "    <tr>\n",
       "      <th>3927</th>\n",
       "      <td>2025-03-07</td>\n",
       "      <td>0</td>\n",
       "      <td>0</td>\n",
       "      <td>0</td>\n",
       "      <td>0</td>\n",
       "    </tr>\n",
       "  </tbody>\n",
       "</table>\n",
       "</div>"
      ],
      "text/plain": [
       "           date  沪深300_轻仓  中证1000_轻仓  沪深300_空仓  中证1000_空仓\n",
       "3927 2025-03-07         0          0         0          0"
      ]
     },
     "execution_count": 1047,
     "metadata": {},
     "output_type": "execute_result"
    }
   ],
   "source": [
    "沪深京全A['沪深300_轻仓'] = idx000300['轻仓判断']\n",
    "沪深京全A['中证1000_轻仓'] = idx000852['轻仓判断']\n",
    "沪深京全A['沪深300_空仓'] = idx000300['跌破20日线']\n",
    "沪深京全A['中证1000_空仓'] = idx000852['跌破20日线']\n",
    "判断_轻仓 = 沪深京全A[['date','沪深300_轻仓','中证1000_轻仓','沪深300_空仓','中证1000_空仓']]\n",
    "判断_轻仓.tail(1)"
   ]
  },
  {
   "cell_type": "markdown",
   "id": "efd421ed-0064-4b2f-a2ef-f30eeeac0a51",
   "metadata": {},
   "source": [
    "## 3.5 最终判断"
   ]
  },
  {
   "cell_type": "code",
   "execution_count": 1089,
   "id": "956e51fa-dc41-4588-bd64-d52622f507b0",
   "metadata": {},
   "outputs": [],
   "source": [
    "大盘综合判断 = 沪深京全A[['date','成交额2万亿20日mean', '成交额大于20日mean',\n",
    "       '成交额2万亿', '全A放量', '沪深300_重仓','沪深300_半仓','沪深300_轻仓','沪深300_空仓',\n",
    "              '中证1000_重仓','中证1000_半仓','中证1000_轻仓','中证1000_空仓']]"
   ]
  },
  {
   "cell_type": "markdown",
   "id": "b13c2dad-c4a4-4974-ac4e-d169e6c91f76",
   "metadata": {},
   "source": [
    "# 4.0 个股仓位管理"
   ]
  },
  {
   "cell_type": "markdown",
   "id": "006756fb-d3cf-4ca9-80b4-156eedd95a00",
   "metadata": {},
   "source": [
    "### 4.1 ATR个股仓位"
   ]
  },
  {
   "cell_type": "code",
   "execution_count": 1050,
   "id": "9b2be864-dee6-41b3-ba7c-94ab0aff950b",
   "metadata": {},
   "outputs": [],
   "source": [
    "## 条件一 ： 20日平均波动率 TR=max(H−L,∣H−Cprev ∣,∣L−Cprev∣)\n",
    "a = (np.abs(adj_high -adj_low)).iloc[1:,:]\n",
    "b = (np.abs(adj_high -adj_close.shift(1))).iloc[1:,:]\n",
    "c = (np.abs(adj_low -adj_close.shift(1))).iloc[1:,:]\n",
    "\n",
    "x = a.stack().reset_index()\n",
    "y = b.stack().reset_index()\n",
    "z = c.stack().reset_index()\n",
    "\n",
    "merged = pd.merge(x, y, on=['date', 'ticker'], how='outer')  # 或者 'inner'，根据需要选择\n",
    "merged = pd.merge(merged, z, on=['date', 'ticker'], how='outer')\n",
    "merged.set_index(['date', 'ticker'], inplace=True)\n",
    "\n",
    "merged.columns = ['a', 'b', 'c']\n",
    "merged['TR'] = merged[['a','b','c']].max(axis=1)\n",
    "merged = merged.drop(columns=['a','b','c'])\n",
    "merged['ATR_init'] = merged.sort_values(['ticker', 'date']).groupby('ticker')['TR'].transform(lambda x: x.rolling(window=20).mean())\n",
    "merged['ATR_init_form'] = np.where(merged['ATR_init'].notna(), 1, 0)\n",
    "merged['TR_new'] = merged['TR'] * merged['ATR_init_form'].replace(0, np.nan)\n",
    "\n",
    "N = 20\n",
    "lambda_20 = 2/(N+1)\n",
    "\n",
    "merged['ATR_pre1'] = merged.groupby('ticker')['ATR_init'].transform(lambda x: x.shift(1)*(1- lambda_20))\n",
    "merged['TR_lambda'] = merged.groupby('ticker')['TR_new'].transform(lambda x: x*lambda_20)\n",
    "merged = merged.drop(columns=['TR','ATR_init','ATR_init_form','TR_new'])\n",
    "merged['ATRt_1d'] = merged['ATR_pre1'] + merged['TR_lambda']\n",
    "merged_pure = merged.ffill().dropna(axis=0)\n",
    "merged_pure['ATR'] = np.nan\n",
    "merged_pure['mask_first'] = merged_pure.groupby('ticker').cumcount() == 0\n",
    "merged_pure['ATR'] = (merged_pure['ATRt_1d'] * merged_pure['mask_first']).replace(0,np.nan)\n",
    "merged_pure = merged_pure.drop(columns=['ATR_pre1','ATRt_1d','mask_first'])\n",
    "\n",
    "TR_lambda = (merged_pure['TR_lambda']).unstack()\n",
    "ATR_init = (merged_pure['ATR']).unstack()\n",
    "ATR = pd.read_pickle('D:/redata/factor/ATR@factor.pkl')\n",
    "\n",
    "empty = (TR_lambda-TR_lambda)\n",
    "empty[:] = 1\n",
    "ATR = ATR * empty"
   ]
  },
  {
   "cell_type": "code",
   "execution_count": 1051,
   "id": "94ddbeaf-f36d-4387-8920-5bbaaea214de",
   "metadata": {},
   "outputs": [],
   "source": [
    "# 单天打标 #\n",
    "ATR_updated = ATR.copy()\n",
    "mask = ~TR_lambda.isna() & ATR_updated.notna().shift(1, axis=0).fillna(False)\n",
    "ATR_updated.values[1:, :] = np.where(\n",
    "    mask.values[1:, :],\n",
    "    lambda_20 * TR_lambda.values[1:, :] + (1 - lambda_20) * ATR_updated.values[:-1, :],\n",
    "    ATR_updated.values[1:, :])\n",
    "ATR_updated.to_pickle('D:/redata/factor/ATR@factor.pkl')"
   ]
  },
  {
   "cell_type": "code",
   "execution_count": 1052,
   "id": "b6e095ff-fffc-4c29-ad17-8592ee3d576d",
   "metadata": {},
   "outputs": [],
   "source": [
    "# 多天计算 #\n",
    "# 初始化 ATR_updated 为 ATR 的副本\n",
    "# ATR_updated_cp = ATR.iloc[100:,:]\n",
    "# TR_lambda_cp = TR_lambda.iloc[100:,:]\n",
    "# max_length = len(TR_lambda_cp)\n",
    "\n",
    "# # 设置最大迭代次数以防止潜在的无限循环\n",
    "# max_iterations = max_length -1\n",
    "# iteration = 0\n",
    "\n",
    "# # 循环直到没有 NaN 或达到最大迭代次数\n",
    "# while iteration < max_iterations:\n",
    "#     # 创建掩码\n",
    "#     mask = ~TR_lambda_cp.isna() & ATR_updated_cp.notna().shift(1, axis=0).fillna(False)\n",
    "    \n",
    "#     # 找到需要更新的行\n",
    "#     rows_to_update = mask.values[1:, :]  # 从第二行开始\n",
    "    \n",
    "#     if not np.any(rows_to_update):\n",
    "#         # 如果没有行需要更新，退出循环\n",
    "#         break\n",
    "    \n",
    "#     # 计算新的 ATR 值\n",
    "#     new_values = lambda_20 * TR_lambda_cp.values[1:, :] + (1 - lambda_20) * ATR_updated_cp.values[:-1, :]\n",
    "    \n",
    "#     # 更新 ATR_updated\n",
    "#     ATR_updated_cp.values[1:, :][rows_to_update] = new_values[rows_to_update]\n",
    "    \n",
    "#     # 检查是否还有 NaN\n",
    "#     if not np.isnan(ATR_updated).any().any():\n",
    "#         break\n",
    "    \n",
    "#     iteration += 1\n",
    "\n",
    "# ATR_updated.to_pickle('D:/redata/factor/ATR@factor.pkl')"
   ]
  },
  {
   "cell_type": "markdown",
   "id": "65091940-878e-4fc3-b776-a4de0674194b",
   "metadata": {},
   "source": [
    "### 4.1.1 个股ATR Decision"
   ]
  },
  {
   "cell_type": "code",
   "execution_count": 1053,
   "id": "d48956e0-68ef-4c82-8ba0-f64087441ac1",
   "metadata": {},
   "outputs": [],
   "source": [
    "# selected_stocks = ['000001','000002','000006','000004','000007']\n",
    "# selected_stocks = sorted(selected_stocks, reverse=False)"
   ]
  },
  {
   "cell_type": "code",
   "execution_count": 1067,
   "id": "5aa09d9f-8041-4065-94d3-c09664f30e80",
   "metadata": {
    "scrolled": true
   },
   "outputs": [
    {
     "data": {
      "text/html": [
       "<div>\n",
       "<style scoped>\n",
       "    .dataframe tbody tr th:only-of-type {\n",
       "        vertical-align: middle;\n",
       "    }\n",
       "\n",
       "    .dataframe tbody tr th {\n",
       "        vertical-align: top;\n",
       "    }\n",
       "\n",
       "    .dataframe thead th {\n",
       "        text-align: right;\n",
       "    }\n",
       "</style>\n",
       "<table border=\"1\" class=\"dataframe\">\n",
       "  <thead>\n",
       "    <tr style=\"text-align: right;\">\n",
       "      <th></th>\n",
       "      <th></th>\n",
       "      <th>ATR</th>\n",
       "      <th>买入最大仓位</th>\n",
       "    </tr>\n",
       "    <tr>\n",
       "      <th>date</th>\n",
       "      <th>ticker</th>\n",
       "      <th></th>\n",
       "      <th></th>\n",
       "    </tr>\n",
       "  </thead>\n",
       "  <tbody>\n",
       "    <tr>\n",
       "      <th rowspan=\"5\" valign=\"top\">2025-03-07</th>\n",
       "      <th>001319</th>\n",
       "      <td>0.168177</td>\n",
       "      <td>5.00%</td>\n",
       "    </tr>\n",
       "    <tr>\n",
       "      <th>300611</th>\n",
       "      <td>0.179731</td>\n",
       "      <td>5.00%</td>\n",
       "    </tr>\n",
       "    <tr>\n",
       "      <th>300953</th>\n",
       "      <td>1.256611</td>\n",
       "      <td>5.00%</td>\n",
       "    </tr>\n",
       "    <tr>\n",
       "      <th>301368</th>\n",
       "      <td>0.744476</td>\n",
       "      <td>5.00%</td>\n",
       "    </tr>\n",
       "    <tr>\n",
       "      <th>688306</th>\n",
       "      <td>0.100949</td>\n",
       "      <td>10.00%</td>\n",
       "    </tr>\n",
       "  </tbody>\n",
       "</table>\n",
       "</div>"
      ],
      "text/plain": [
       "                        ATR  买入最大仓位\n",
       "date       ticker                  \n",
       "2025-03-07 001319  0.168177   5.00%\n",
       "           300611  0.179731   5.00%\n",
       "           300953  1.256611   5.00%\n",
       "           301368  0.744476   5.00%\n",
       "           688306  0.100949  10.00%"
      ]
     },
     "execution_count": 1067,
     "metadata": {},
     "output_type": "execute_result"
    }
   ],
   "source": [
    "selected_stocks = sorted(selected_stocks, reverse=False)\n",
    "selected_stocks_atr = ATR[selected_stocks].iloc[-1:,:]\n",
    "selected_stocks_atr = pd.DataFrame(selected_stocks_atr.stack())\n",
    "\n",
    "selected_stocks_atr.columns = ['ATR']\n",
    "\n",
    "conditions = [\n",
    "    selected_stocks_atr['ATR'] <= 0.10,   # 条件1: ATR ≤ 0.10\n",
    "    selected_stocks_atr['ATR'] >= 0.15    # 条件2: ATR ≥ 0.15\n",
    "]\n",
    "\n",
    "choices = [\n",
    "    0.20,   # 条件1满足时赋值0.20\n",
    "    0.05    # 条件2满足时赋值0.05\n",
    "]\n",
    "\n",
    "# 默认值\n",
    "default = 0.10\n",
    "\n",
    "# 使用 numpy.select 进行条件赋值\n",
    "selected_stocks_atr['买入最大仓位'] = (np.select(conditions, choices, default)) * 100\n",
    "selected_stocks_atr['买入最大仓位'] = selected_stocks_atr['买入最大仓位'].apply(lambda x: f\"{x:.2f}%\")\n",
    "\n",
    "\n",
    "selected_stocks_atr"
   ]
  },
  {
   "cell_type": "markdown",
   "id": "4d46e16d-40dc-42f4-8438-067f313f5aa4",
   "metadata": {},
   "source": [
    "### 4.1.2 个股收盘价与5日线偏离度"
   ]
  },
  {
   "cell_type": "code",
   "execution_count": 1094,
   "id": "f9e112cc-6427-4299-a9b9-fc1baeaf30c1",
   "metadata": {},
   "outputs": [],
   "source": [
    "def reform(selected_stocks, data):\n",
    "    df = data[selected_stocks].iloc[-1:,:]\n",
    "    df = pd.DataFrame(df.stack())\n",
    "\n",
    "selected_stock_adj_close = adj_close[selected_stocks].iloc[-1:,:]\n",
    "selected_stock_adj_close = pd.DataFrame(selected_stock_adj_close.stack())\n",
    "selected_stock_adj_close.columns = ['adj_close']\n",
    "\n",
    "stock_ma5 = adj_close.rolling(5).mean()\n",
    "selected_stocks_ma5 = stock_ma5[selected_stocks].iloc[-1:,:]\n",
    "selected_stocks_ma5 = pd.DataFrame(selected_stocks_ma5.stack())\n",
    "selected_stocks_ma5.columns = ['ma5']\n",
    "selected_stock_adj_close['ma5'] = selected_stocks_ma5['ma5']\n",
    "selected_stock_adj_close['bias'] = (((selected_stock_adj_close['adj_close'] - \n",
    "                                      selected_stock_adj_close['ma5'])/ \n",
    "                                     selected_stock_adj_close['ma5'])).round(4)\n",
    "\n",
    "selected_stock_bias_5 = pd.DataFrame(selected_stock_adj_close['bias'])"
   ]
  },
  {
   "cell_type": "code",
   "execution_count": 1095,
   "id": "58058189-208e-49f8-afa2-8fcd5edc8eae",
   "metadata": {
    "scrolled": true
   },
   "outputs": [],
   "source": [
    "# 条件一 偏离度小于0.05\n",
    "\n",
    "# conditions_bias = [\n",
    "#     (selected_stock_bias_5['bias'] <= 0.05) & (selected_stock_bias_5['bias'] >= -0.05)]\n",
    "\n",
    "# choices_bias = [1]\n",
    "\n",
    "\n",
    "# selected_stock_bias_5['sign_Bias5'] = (np.select(conditions_bias, choices_bias, default=0))\n",
    "\n",
    "# 条件一 买入点偏离度小于0.05\n",
    "\n",
    "selected_stocks_ma5['买入点max'] = (selected_stocks_ma5['ma5'] * 1.05).round(2)\n",
    "selected_stocks_ma5['买入点low'] = (selected_stocks_ma5['ma5'] * 0.95).round(2)"
   ]
  },
  {
   "cell_type": "code",
   "execution_count": 1096,
   "id": "e769077c-9145-42c4-8f1c-35b862e5be41",
   "metadata": {},
   "outputs": [],
   "source": [
    "# 条件二 当日收盘涨跌幅小于5%\n",
    "intra_rtn = (adj_close - adj_open)/adj_open \n",
    "selected_stock_intra_rtn = intra_rtn[selected_stocks].iloc[-1:,:]\n",
    "selected_stock_intra_rtn = pd.DataFrame(selected_stock_intra_rtn.stack())\n",
    "selected_stock_intra_rtn.columns = ['intra_return']\n",
    "\n",
    "conditions_intra_rtn = [\n",
    "    (selected_stock_intra_rtn['intra_return'] <= 0.05)]\n",
    "\n",
    "choices_intra_rtn = [1]\n",
    "\n",
    "\n",
    "selected_stock_intra_rtn['sign_DatRtn'] = (np.select(conditions_intra_rtn, choices_intra_rtn, default= 0))"
   ]
  },
  {
   "cell_type": "code",
   "execution_count": 1097,
   "id": "fed574ac-e6e2-4fbb-a56d-9455a1df8e20",
   "metadata": {},
   "outputs": [],
   "source": [
    "# 条件三 当日止损点\n",
    "max_loss = total_capital * 0.01\n",
    "stock_positions = [600, 600, 100, 400, 500]\n",
    "selected_stock_intra_rtn['实际仓位'] = stock_positions # 持仓股票数 手动输入\n",
    "\n",
    "# 计算每只股票的最大止损价\n",
    "selected_stock_intra_rtn['止损max'] = (max_loss / selected_stock_intra_rtn['实际仓位']).round(2)"
   ]
  },
  {
   "cell_type": "code",
   "execution_count": 1102,
   "id": "f4353bf6-73a8-47e2-9efe-2910a2d313e5",
   "metadata": {},
   "outputs": [],
   "source": [
    "# 最终个股信号\n",
    "selected_stock_final_decision = pd.concat([selected_stocks_ma5, selected_stock_intra_rtn, selected_stocks_atr], axis=1)\n",
    "# selected_stock_final_decision['最终交易信号'] = selected_stock_final_decision['sign_Bias5'] * selected_stock_final_decision['sign_DatRtn']\n",
    "selected_stock_final_decision['最终交易信号'] = selected_stock_final_decision['sign_DatRtn']\n",
    "selected_stock_final_decision = selected_stock_final_decision.drop(columns=['sign_DatRtn'])\n",
    "selected_stock_final_decision = selected_stock_final_decision.replace(1,'买入')\n",
    "selected_stock_final_decision = selected_stock_final_decision.replace(0,'等待回落')\n",
    "selected_stock_final_decision = selected_stock_final_decision[['实际仓位','买入点max','买入点low','买入最大仓位','止损max','最终交易信号']]"
   ]
  },
  {
   "cell_type": "code",
   "execution_count": 1103,
   "id": "f7f0dee5-984f-416e-a856-12d8d17fa010",
   "metadata": {},
   "outputs": [
    {
     "data": {
      "text/html": [
       "<div>\n",
       "<style scoped>\n",
       "    .dataframe tbody tr th:only-of-type {\n",
       "        vertical-align: middle;\n",
       "    }\n",
       "\n",
       "    .dataframe tbody tr th {\n",
       "        vertical-align: top;\n",
       "    }\n",
       "\n",
       "    .dataframe thead th {\n",
       "        text-align: right;\n",
       "    }\n",
       "</style>\n",
       "<table border=\"1\" class=\"dataframe\">\n",
       "  <thead>\n",
       "    <tr style=\"text-align: right;\">\n",
       "      <th></th>\n",
       "      <th></th>\n",
       "      <th>实际仓位</th>\n",
       "      <th>买入点max</th>\n",
       "      <th>买入点low</th>\n",
       "      <th>买入最大仓位</th>\n",
       "      <th>止损max</th>\n",
       "      <th>最终交易信号</th>\n",
       "    </tr>\n",
       "    <tr>\n",
       "      <th>date</th>\n",
       "      <th>ticker</th>\n",
       "      <th></th>\n",
       "      <th></th>\n",
       "      <th></th>\n",
       "      <th></th>\n",
       "      <th></th>\n",
       "      <th></th>\n",
       "    </tr>\n",
       "  </thead>\n",
       "  <tbody>\n",
       "    <tr>\n",
       "      <th rowspan=\"5\" valign=\"top\">2025-03-07</th>\n",
       "      <th>001319</th>\n",
       "      <td>600</td>\n",
       "      <td>30.68</td>\n",
       "      <td>27.76</td>\n",
       "      <td>5.00%</td>\n",
       "      <td>16.67</td>\n",
       "      <td>等待回落</td>\n",
       "    </tr>\n",
       "    <tr>\n",
       "      <th>300611</th>\n",
       "      <td>600</td>\n",
       "      <td>21.22</td>\n",
       "      <td>19.20</td>\n",
       "      <td>5.00%</td>\n",
       "      <td>16.67</td>\n",
       "      <td>等待回落</td>\n",
       "    </tr>\n",
       "    <tr>\n",
       "      <th>300953</th>\n",
       "      <td>100</td>\n",
       "      <td>155.90</td>\n",
       "      <td>141.06</td>\n",
       "      <td>5.00%</td>\n",
       "      <td>100.00</td>\n",
       "      <td>等待回落</td>\n",
       "    </tr>\n",
       "    <tr>\n",
       "      <th>301368</th>\n",
       "      <td>400</td>\n",
       "      <td>90.50</td>\n",
       "      <td>81.88</td>\n",
       "      <td>5.00%</td>\n",
       "      <td>25.00</td>\n",
       "      <td>等待回落</td>\n",
       "    </tr>\n",
       "    <tr>\n",
       "      <th>688306</th>\n",
       "      <td>500</td>\n",
       "      <td>12.76</td>\n",
       "      <td>11.55</td>\n",
       "      <td>10.00%</td>\n",
       "      <td>20.00</td>\n",
       "      <td>等待回落</td>\n",
       "    </tr>\n",
       "  </tbody>\n",
       "</table>\n",
       "</div>"
      ],
      "text/plain": [
       "                   实际仓位  买入点max  买入点low  买入最大仓位   止损max 最终交易信号\n",
       "date       ticker                                             \n",
       "2025-03-07 001319   600   30.68   27.76   5.00%   16.67   等待回落\n",
       "           300611   600   21.22   19.20   5.00%   16.67   等待回落\n",
       "           300953   100  155.90  141.06   5.00%  100.00   等待回落\n",
       "           301368   400   90.50   81.88   5.00%   25.00   等待回落\n",
       "           688306   500   12.76   11.55  10.00%   20.00   等待回落"
      ]
     },
     "execution_count": 1103,
     "metadata": {},
     "output_type": "execute_result"
    }
   ],
   "source": [
    "selected_stock_final_decision"
   ]
  },
  {
   "cell_type": "code",
   "execution_count": 1093,
   "id": "39515b6e-c84a-4026-98d9-3ed2637f2682",
   "metadata": {},
   "outputs": [
    {
     "data": {
      "text/html": [
       "<div>\n",
       "<style scoped>\n",
       "    .dataframe tbody tr th:only-of-type {\n",
       "        vertical-align: middle;\n",
       "    }\n",
       "\n",
       "    .dataframe tbody tr th {\n",
       "        vertical-align: top;\n",
       "    }\n",
       "\n",
       "    .dataframe thead th {\n",
       "        text-align: right;\n",
       "    }\n",
       "</style>\n",
       "<table border=\"1\" class=\"dataframe\">\n",
       "  <thead>\n",
       "    <tr style=\"text-align: right;\">\n",
       "      <th></th>\n",
       "      <th>date</th>\n",
       "      <th>成交额2万亿20日mean</th>\n",
       "      <th>成交额大于20日mean</th>\n",
       "      <th>成交额2万亿</th>\n",
       "      <th>全A放量</th>\n",
       "      <th>沪深300_重仓</th>\n",
       "      <th>沪深300_半仓</th>\n",
       "      <th>沪深300_轻仓</th>\n",
       "      <th>沪深300_空仓</th>\n",
       "      <th>中证1000_重仓</th>\n",
       "      <th>中证1000_半仓</th>\n",
       "      <th>中证1000_轻仓</th>\n",
       "      <th>中证1000_空仓</th>\n",
       "    </tr>\n",
       "  </thead>\n",
       "  <tbody>\n",
       "    <tr>\n",
       "      <th>3926</th>\n",
       "      <td>2025-03-06</td>\n",
       "      <td>1.804308e+12</td>\n",
       "      <td>1</td>\n",
       "      <td>0</td>\n",
       "      <td>1</td>\n",
       "      <td>0</td>\n",
       "      <td>0</td>\n",
       "      <td>0</td>\n",
       "      <td>0</td>\n",
       "      <td>0</td>\n",
       "      <td>0</td>\n",
       "      <td>0</td>\n",
       "      <td>0</td>\n",
       "    </tr>\n",
       "    <tr>\n",
       "      <th>3927</th>\n",
       "      <td>2025-03-07</td>\n",
       "      <td>1.797471e+12</td>\n",
       "      <td>1</td>\n",
       "      <td>0</td>\n",
       "      <td>1</td>\n",
       "      <td>0</td>\n",
       "      <td>0</td>\n",
       "      <td>0</td>\n",
       "      <td>0</td>\n",
       "      <td>0</td>\n",
       "      <td>0</td>\n",
       "      <td>0</td>\n",
       "      <td>0</td>\n",
       "    </tr>\n",
       "  </tbody>\n",
       "</table>\n",
       "</div>"
      ],
      "text/plain": [
       "           date  成交额2万亿20日mean  成交额大于20日mean  成交额2万亿  全A放量  沪深300_重仓  \\\n",
       "3926 2025-03-06   1.804308e+12             1       0     1         0   \n",
       "3927 2025-03-07   1.797471e+12             1       0     1         0   \n",
       "\n",
       "      沪深300_半仓  沪深300_轻仓  沪深300_空仓  中证1000_重仓  中证1000_半仓  中证1000_轻仓  中证1000_空仓  \n",
       "3926         0         0         0          0          0          0          0  \n",
       "3927         0         0         0          0          0          0          0  "
      ]
     },
     "execution_count": 1093,
     "metadata": {},
     "output_type": "execute_result"
    }
   ],
   "source": [
    "大盘综合判断.tail(2)"
   ]
  },
  {
   "cell_type": "raw",
   "id": "4e02ea55-d0de-4eda-9b81-56e461f65afe",
   "metadata": {},
   "source": [
    "问题： 大盘判断这边会出现条件不交叉导致全部是0，方案-只设定重仓和轻仓条件，其余为空仓\n",
    "分仓移动止盈止损难以实现自动化，通达信和ths都没有api入口。"
   ]
  },
  {
   "cell_type": "code",
   "execution_count": null,
   "id": "c9fbd05e-af49-4aa7-a9f7-89f3fd56baf7",
   "metadata": {},
   "outputs": [],
   "source": []
  }
 ],
 "metadata": {
  "kernelspec": {
   "display_name": "Python 3 (ipykernel)",
   "language": "python",
   "name": "python3"
  },
  "language_info": {
   "codemirror_mode": {
    "name": "ipython",
    "version": 3
   },
   "file_extension": ".py",
   "mimetype": "text/x-python",
   "name": "python",
   "nbconvert_exporter": "python",
   "pygments_lexer": "ipython3",
   "version": "3.10.14"
  }
 },
 "nbformat": 4,
 "nbformat_minor": 5
}
