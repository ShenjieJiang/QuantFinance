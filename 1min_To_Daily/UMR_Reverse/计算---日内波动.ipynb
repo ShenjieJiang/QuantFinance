{
 "cells": [
  {
   "cell_type": "code",
   "execution_count": 2,
   "metadata": {},
   "outputs": [],
   "source": [
    "import warnings\n",
    "warnings.filterwarnings('ignore')"
   ]
  },
  {
   "cell_type": "code",
   "execution_count": 1,
   "metadata": {},
   "outputs": [],
   "source": [
    "import pandas as pd\n",
    "import os\n",
    "import glob"
   ]
  },
  {
   "cell_type": "markdown",
   "metadata": {},
   "source": [
    "#### 全天的"
   ]
  },
  {
   "cell_type": "code",
   "execution_count": null,
   "metadata": {},
   "outputs": [],
   "source": [
    "directory = \"Z:/1_min_data\"\n",
    "\n",
    "all_files = glob.glob(directory + \"/*.pkl\")\n",
    "data_frames = {}\n",
    "for file in all_files:\n",
    "    df = pd.read_pickle(file)\n",
    "    file_name = os.path.basename(file).split('.')[0]  \n",
    "\n",
    "    df['code'] = (df['TIME'] - 34260)%300\n",
    "    df5min = df[df['code']==0]\n",
    "\n",
    "    df5min['ret'] = df5min.groupby(['RIC'])['CLOSE'].apply(lambda x: (x - x.shift(1))/x.shift(1)).reset_index(level=0,drop=True)\n",
    "\n",
    "\n",
    "    df_ret_vol = df5min.groupby(['RIC'])['ret'].std().reset_index()\n",
    "    data_frames[file_name] = df_ret_vol\n"
   ]
  },
  {
   "cell_type": "code",
   "execution_count": null,
   "metadata": {},
   "outputs": [],
   "source": [
    "for date, df in data_frames.items():\n",
    "    df['date'] = date\n",
    "\n",
    "df = pd.concat(data_frames.values(),axis=0)"
   ]
  },
  {
   "cell_type": "code",
   "execution_count": null,
   "metadata": {},
   "outputs": [],
   "source": [
    "df = df.rename(columns={'ret':'ret_vol'})\n",
    "df"
   ]
  },
  {
   "cell_type": "code",
   "execution_count": null,
   "metadata": {},
   "outputs": [],
   "source": [
    "df['ret_vol'] = df['ret_vol']*10"
   ]
  },
  {
   "cell_type": "code",
   "execution_count": null,
   "metadata": {},
   "outputs": [],
   "source": [
    "df.to_parquet('daily_return_vol.parquet')"
   ]
  }
 ],
 "metadata": {
  "kernelspec": {
   "display_name": "Python(cuda)",
   "language": "python",
   "name": "cuda_env"
  },
  "language_info": {
   "codemirror_mode": {
    "name": "ipython",
    "version": 3
   },
   "file_extension": ".py",
   "mimetype": "text/x-python",
   "name": "python",
   "nbconvert_exporter": "python",
   "pygments_lexer": "ipython3",
   "version": "3.8.19"
  }
 },
 "nbformat": 4,
 "nbformat_minor": 2
}
