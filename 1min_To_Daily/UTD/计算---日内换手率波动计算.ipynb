{
 "cells": [
  {
   "cell_type": "code",
   "execution_count": 1,
   "metadata": {},
   "outputs": [],
   "source": [
    "import warnings\n",
    "warnings.filterwarnings('ignore')"
   ]
  },
  {
   "cell_type": "code",
   "execution_count": 2,
   "metadata": {},
   "outputs": [],
   "source": [
    "import pandas as pd\n",
    "import numpy as np\n",
    "import pickle\n",
    "import os\n",
    "import glob"
   ]
  },
  {
   "cell_type": "markdown",
   "metadata": {},
   "source": []
  },
  {
   "cell_type": "code",
   "execution_count": 3,
   "metadata": {},
   "outputs": [
    {
     "data": {
      "text/plain": [
       "Index(['date', 'order_book_id', 'adj_close', 'adj_factor', 'adj_high',\n",
       "       'adj_low', 'adj_open', 'circulation_a', 'circulation_market_value',\n",
       "       'close', 'halt_status', 'high', 'limit_down', 'limit_up', 'low',\n",
       "       'num_trades', 'open', 'st_status', 'total_a', 'total_turnover',\n",
       "       'turnover_rate', 'volume', 'st_change', 'halt_change', 'day_count',\n",
       "       'ret_overnight', 'ret_day', 'ret_daily'],\n",
       "      dtype='object')"
      ]
     },
     "execution_count": 3,
     "metadata": {},
     "output_type": "execute_result"
    }
   ],
   "source": [
    "df_market = pd.read_parquet('../processed_market_data.parquet')\n",
    "df_market.columns"
   ]
  },
  {
   "cell_type": "code",
   "execution_count": 4,
   "metadata": {},
   "outputs": [],
   "source": [
    "directory = \"Z:/1_min_data\"\n",
    "\n",
    "all_files = glob.glob(directory + \"/*.pkl\")\n",
    "data_frames = {}\n",
    "for file in all_files:\n",
    "    df_1min_day = pd.read_pickle(file)\n",
    "    file_name = os.path.basename(file).split('.')[0]  \n",
    "\n",
    "    df_1min_day.loc[df_1min_day['TIME'] <= 36000, 'Time_seg'] = '1'\n",
    "    df_1min_day.loc[(df_1min_day['TIME'] < 52200) & (df_1min_day['TIME'] > 36000), 'Time_seg'] = '2'\n",
    "    df_1min_day.loc[df_1min_day['TIME'] >= 52200, 'Time_seg'] = '3'\n",
    "\n",
    "    df_1min_day = pd.merge(df_1min_day,df_market[['date','order_book_id','circulation_a']],left_on=['DATE','RIC'],right_on=['date','order_book_id'],how='left')\n",
    "    df_1min_day['min_turnover'] = df_1min_day['VOL']/df_1min_day['circulation_a']\n",
    "\n",
    "    df_day = df_1min_day.groupby(['order_book_id','Time_seg'])['min_turnover'].std().reset_index()\n",
    "    # df_day = df_1min_day.groupby(['order_book_id'])['min_turnover'].std().reset_index()\n",
    "\n",
    "\n",
    "    data_frames[file_name] = df_day\n"
   ]
  },
  {
   "cell_type": "code",
   "execution_count": 5,
   "metadata": {},
   "outputs": [],
   "source": [
    "for date, df in data_frames.items():\n",
    "    df['date'] = date\n",
    "\n",
    "df = pd.concat(data_frames.values(),axis=0)"
   ]
  },
  {
   "cell_type": "code",
   "execution_count": 6,
   "metadata": {},
   "outputs": [
    {
     "data": {
      "text/html": [
       "<div>\n",
       "<style scoped>\n",
       "    .dataframe tbody tr th:only-of-type {\n",
       "        vertical-align: middle;\n",
       "    }\n",
       "\n",
       "    .dataframe tbody tr th {\n",
       "        vertical-align: top;\n",
       "    }\n",
       "\n",
       "    .dataframe thead th {\n",
       "        text-align: right;\n",
       "    }\n",
       "</style>\n",
       "<table border=\"1\" class=\"dataframe\">\n",
       "  <thead>\n",
       "    <tr style=\"text-align: right;\">\n",
       "      <th></th>\n",
       "      <th>order_book_id</th>\n",
       "      <th>Time_seg</th>\n",
       "      <th>TurnVol_daily</th>\n",
       "      <th>date</th>\n",
       "    </tr>\n",
       "  </thead>\n",
       "  <tbody>\n",
       "    <tr>\n",
       "      <th>0</th>\n",
       "      <td>000001</td>\n",
       "      <td>1</td>\n",
       "      <td>0.000012</td>\n",
       "      <td>2016-01-04</td>\n",
       "    </tr>\n",
       "    <tr>\n",
       "      <th>1</th>\n",
       "      <td>000001</td>\n",
       "      <td>2</td>\n",
       "      <td>0.000028</td>\n",
       "      <td>2016-01-04</td>\n",
       "    </tr>\n",
       "    <tr>\n",
       "      <th>2</th>\n",
       "      <td>000001</td>\n",
       "      <td>3</td>\n",
       "      <td>0.000000</td>\n",
       "      <td>2016-01-04</td>\n",
       "    </tr>\n",
       "    <tr>\n",
       "      <th>3</th>\n",
       "      <td>000004</td>\n",
       "      <td>1</td>\n",
       "      <td>0.000326</td>\n",
       "      <td>2016-01-04</td>\n",
       "    </tr>\n",
       "    <tr>\n",
       "      <th>4</th>\n",
       "      <td>000004</td>\n",
       "      <td>2</td>\n",
       "      <td>0.000208</td>\n",
       "      <td>2016-01-04</td>\n",
       "    </tr>\n",
       "    <tr>\n",
       "      <th>...</th>\n",
       "      <td>...</td>\n",
       "      <td>...</td>\n",
       "      <td>...</td>\n",
       "      <td>...</td>\n",
       "    </tr>\n",
       "    <tr>\n",
       "      <th>14896</th>\n",
       "      <td>688981</td>\n",
       "      <td>2</td>\n",
       "      <td>0.000121</td>\n",
       "      <td>2024-11-18</td>\n",
       "    </tr>\n",
       "    <tr>\n",
       "      <th>14897</th>\n",
       "      <td>688981</td>\n",
       "      <td>3</td>\n",
       "      <td>0.000081</td>\n",
       "      <td>2024-11-18</td>\n",
       "    </tr>\n",
       "    <tr>\n",
       "      <th>14898</th>\n",
       "      <td>689009</td>\n",
       "      <td>1</td>\n",
       "      <td>0.000801</td>\n",
       "      <td>2024-11-18</td>\n",
       "    </tr>\n",
       "    <tr>\n",
       "      <th>14899</th>\n",
       "      <td>689009</td>\n",
       "      <td>2</td>\n",
       "      <td>0.000544</td>\n",
       "      <td>2024-11-18</td>\n",
       "    </tr>\n",
       "    <tr>\n",
       "      <th>14900</th>\n",
       "      <td>689009</td>\n",
       "      <td>3</td>\n",
       "      <td>0.000569</td>\n",
       "      <td>2024-11-18</td>\n",
       "    </tr>\n",
       "  </tbody>\n",
       "</table>\n",
       "<p>24074073 rows × 4 columns</p>\n",
       "</div>"
      ],
      "text/plain": [
       "      order_book_id Time_seg  TurnVol_daily        date\n",
       "0            000001        1       0.000012  2016-01-04\n",
       "1            000001        2       0.000028  2016-01-04\n",
       "2            000001        3       0.000000  2016-01-04\n",
       "3            000004        1       0.000326  2016-01-04\n",
       "4            000004        2       0.000208  2016-01-04\n",
       "...             ...      ...            ...         ...\n",
       "14896        688981        2       0.000121  2024-11-18\n",
       "14897        688981        3       0.000081  2024-11-18\n",
       "14898        689009        1       0.000801  2024-11-18\n",
       "14899        689009        2       0.000544  2024-11-18\n",
       "14900        689009        3       0.000569  2024-11-18\n",
       "\n",
       "[24074073 rows x 4 columns]"
      ]
     },
     "execution_count": 6,
     "metadata": {},
     "output_type": "execute_result"
    }
   ],
   "source": [
    "df = df.rename(columns={'min_turnover':'TurnVol_daily'})\n",
    "df"
   ]
  },
  {
   "cell_type": "code",
   "execution_count": 7,
   "metadata": {},
   "outputs": [],
   "source": [
    "# df.to_parquet('daily_turnover_volatility.parquet')\n",
    "df.to_parquet('daily_turnover_vol_timesegment.parquet')"
   ]
  }
 ],
 "metadata": {
  "kernelspec": {
   "display_name": "Python(cuda)",
   "language": "python",
   "name": "cuda_env"
  },
  "language_info": {
   "codemirror_mode": {
    "name": "ipython",
    "version": 3
   },
   "file_extension": ".py",
   "mimetype": "text/x-python",
   "name": "python",
   "nbconvert_exporter": "python",
   "pygments_lexer": "ipython3",
   "version": "3.8.19"
  }
 },
 "nbformat": 4,
 "nbformat_minor": 2
}
