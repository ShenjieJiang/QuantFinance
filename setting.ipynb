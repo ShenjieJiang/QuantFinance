{
 "cells": [
  {
   "cell_type": "code",
   "execution_count": 1,
   "id": "b3a5d88d-e50b-4a1a-ab13-29723776d45d",
   "metadata": {},
   "outputs": [],
   "source": [
    "from typing import Dict, Any\n",
    "\n",
    "SETTINGS: Dict[str, Any] = {\n",
    "\n",
    "    \"oss.accesskey\":\"LTAI5tN7V51xtxUmaKxmRsWo\",\n",
    "    \"oss.secret\": \"rmqsMszRtvurcckVMD9M14riQYshi6\",\n",
    "    \"oss.bucketname\": \"2nd-data\",\n",
    "    \"oss.endpoint\": \"oss-cn-shenzhen.aliyuncs.com\",\n",
    "\n",
    "}"
   ]
  },
  {
   "cell_type": "code",
   "execution_count": null,
   "id": "37bca08c-18f4-4bfd-9817-dd9ff3fb2083",
   "metadata": {},
   "outputs": [],
   "source": []
  }
 ],
 "metadata": {
  "kernelspec": {
   "display_name": "Python 3 (ipykernel)",
   "language": "python",
   "name": "python3"
  },
  "language_info": {
   "codemirror_mode": {
    "name": "ipython",
    "version": 3
   },
   "file_extension": ".py",
   "mimetype": "text/x-python",
   "name": "python",
   "nbconvert_exporter": "python",
   "pygments_lexer": "ipython3",
   "version": "3.10.14"
  }
 },
 "nbformat": 4,
 "nbformat_minor": 5
}
